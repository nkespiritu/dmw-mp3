{
 "cells": [
  {
   "cell_type": "markdown",
   "metadata": {
    "code_folding": []
   },
   "source": [
    "# Clustering the Tokyo, Japan Airbnb listings made by superhosts by room features, booking, and review features\n",
    "\n",
    "by Nika Espiritu and Daryll Tumambing"
   ]
  },
  {
   "cell_type": "markdown",
   "metadata": {},
   "source": [
    "## Executive Summary \n",
    "\n",
    "What characterizes superhost listings?  What are the types of superhost listings, such that a traveler can discern where they should stay?  For these superhosts, what can they do to stand amongst other superhosts? \n",
    "\n",
    "To answer this, the Airbnb `listings` dataset of Tokyo, Kantō, Japan was used.  A pre-COVID scenario was considered; thus, the December 30, 2019 crawl date was used.   The dataset was then trimmed down by only taking the listings posted by superhosts. From here, the researchers conducted clustering on the resulting superhosts dataset and searched for common characteristics between the listings through an exploratory data analysis on each cluster found. \n",
    "\n",
    "By conducting principal component analysis and k-medians clustering, the researchers were able to come up with 3 distinct clusters, fit for 3 customer types: high-paying guests, families, and budget travelers.  Distinct features of each cluster were identified through exploratory data analysis on variables related to property type, price, ratings, and amenities.  High-paying guests are faced with cost-inefficient Airbnb listings.  Families are presented with listings that are more spacious and have more family-friendly amenities. Finally, budget travelers can choose from budget-friendly options, all rich with amenities similar to listings fit for families. "
   ]
  },
  {
   "cell_type": "markdown",
   "metadata": {},
   "source": [
    "## Introduction\n",
    "\n",
    "Airbnb has been known as a disruptor in the hospitality industry with the numerous listings available on the platform that rival the experience provided by typical hotels and hostels.  However, a key distinction of one listing from another is the “superhost” badge placed on it.  With this badge, superhosts are able to have prime spots on search results.  They may also command a higher price point, given the extra visibility and trust placed on them. \n",
    "\n",
    "With this in mind, the researchers are interested in answering the following question: what characterizes superhost listings?  What are their similarities and differences?  For existing and incoming Airbnb hosts, this is an interesting problem, as this paper provides insights on getting ahead in the Airbnb market.  For travelers, they are given insights on the typical Airbnb in an area.  Most importantly, this paper gives insights on the inherent customer segmentation done by Airbnb. \n",
    "\n",
    "The researchers used the Airbnb `listings` dataset of Tokyo, Kantō, Japan, found on Jojie.  The latest pre-COVID scenario was considered in the analysis, i.e. December 30, 2019, thus pertaining to all listings found on the Airbnb platform on December 30, 2019. After conducting data pre-processing, principal component analysis, and k-means and k-medians clustering were conducted."
   ]
  },
  {
   "cell_type": "markdown",
   "metadata": {},
   "source": [
    "## Dataset \n",
    "\n",
    "The researchers utilized the `listings.csv.gz` Airbnb dataset of Tokyo, Kantō, Japan from the 30 December 2019 crawl date. The following libraries were used to aid in the analysis."
   ]
  },
  {
   "cell_type": "code",
   "execution_count": 1,
   "metadata": {
    "ExecuteTime": {
     "end_time": "2021-08-11T14:27:24.361525Z",
     "start_time": "2021-08-11T14:27:18.658260Z"
    }
   },
   "outputs": [
    {
     "name": "stderr",
     "output_type": "stream",
     "text": [
      "<ipython-input-1-e1212b0ab976>:10: TqdmExperimentalWarning: Using `tqdm.autonotebook.tqdm` in notebook mode. Use `tqdm.tqdm` instead to force console mode (e.g. in jupyter console)\n",
      "  from tqdm.autonotebook import tqdm\n"
     ]
    }
   ],
   "source": [
    "import pandas as pd\n",
    "import seaborn as sns\n",
    "import numpy as np\n",
    "import sys\n",
    "import os\n",
    "import json\n",
    "import re\n",
    "import gzip\n",
    "import seaborn as sns\n",
    "from tqdm.autonotebook import tqdm\n",
    "import matplotlib.pyplot as plt\n",
    "from sklearn.impute import SimpleImputer\n",
    "from sklearn.decomposition import PCA\n",
    "from sklearn.preprocessing import StandardScaler, RobustScaler, MinMaxScaler\n",
    "from sklearn.metrics import calinski_harabasz_score, silhouette_score\n",
    "from sklearn.cluster import KMeans\n",
    "from pyclustering.cluster.kmedians import kmedians\n",
    "import folium\n",
    "import IPython\n",
    "np.set_printoptions(threshold=sys.maxsize)"
   ]
  },
  {
   "cell_type": "code",
   "execution_count": 2,
   "metadata": {
    "ExecuteTime": {
     "end_time": "2021-08-11T14:27:27.736634Z",
     "start_time": "2021-08-11T14:27:25.552091Z"
    }
   },
   "outputs": [
    {
     "name": "stdout",
     "output_type": "stream",
     "text": [
      "(14550, 106)\n"
     ]
    },
    {
     "data": {
      "text/html": [
       "<div>\n",
       "<style scoped>\n",
       "    .dataframe tbody tr th:only-of-type {\n",
       "        vertical-align: middle;\n",
       "    }\n",
       "\n",
       "    .dataframe tbody tr th {\n",
       "        vertical-align: top;\n",
       "    }\n",
       "\n",
       "    .dataframe thead th {\n",
       "        text-align: right;\n",
       "    }\n",
       "</style>\n",
       "<table border=\"1\" class=\"dataframe\">\n",
       "  <thead>\n",
       "    <tr style=\"text-align: right;\">\n",
       "      <th></th>\n",
       "      <th>id</th>\n",
       "      <th>listing_url</th>\n",
       "      <th>scrape_id</th>\n",
       "      <th>last_scraped</th>\n",
       "      <th>name</th>\n",
       "      <th>summary</th>\n",
       "      <th>space</th>\n",
       "      <th>description</th>\n",
       "      <th>experiences_offered</th>\n",
       "      <th>neighborhood_overview</th>\n",
       "      <th>...</th>\n",
       "      <th>instant_bookable</th>\n",
       "      <th>is_business_travel_ready</th>\n",
       "      <th>cancellation_policy</th>\n",
       "      <th>require_guest_profile_picture</th>\n",
       "      <th>require_guest_phone_verification</th>\n",
       "      <th>calculated_host_listings_count</th>\n",
       "      <th>calculated_host_listings_count_entire_homes</th>\n",
       "      <th>calculated_host_listings_count_private_rooms</th>\n",
       "      <th>calculated_host_listings_count_shared_rooms</th>\n",
       "      <th>reviews_per_month</th>\n",
       "    </tr>\n",
       "  </thead>\n",
       "  <tbody>\n",
       "    <tr>\n",
       "      <th>0</th>\n",
       "      <td>35303</td>\n",
       "      <td>https://www.airbnb.com/rooms/35303</td>\n",
       "      <td>20191230223155</td>\n",
       "      <td>2019-12-30</td>\n",
       "      <td>La Casa Gaienmae C Harajuku, Omotesando is nearby</td>\n",
       "      <td>This shared flat is locating at very close to ...</td>\n",
       "      <td>This apartment is 3 bedroom flat shared with t...</td>\n",
       "      <td>This shared flat is locating at very close to ...</td>\n",
       "      <td>none</td>\n",
       "      <td>10 min walking to Harajuku ~ Urahara ~ Omotesa...</td>\n",
       "      <td>...</td>\n",
       "      <td>f</td>\n",
       "      <td>f</td>\n",
       "      <td>strict_14_with_grace_period</td>\n",
       "      <td>f</td>\n",
       "      <td>f</td>\n",
       "      <td>3</td>\n",
       "      <td>2</td>\n",
       "      <td>1</td>\n",
       "      <td>0</td>\n",
       "      <td>0.18</td>\n",
       "    </tr>\n",
       "    <tr>\n",
       "      <th>1</th>\n",
       "      <td>197677</td>\n",
       "      <td>https://www.airbnb.com/rooms/197677</td>\n",
       "      <td>20191230223155</td>\n",
       "      <td>2019-12-31</td>\n",
       "      <td>Oshiage Holiday Apartment</td>\n",
       "      <td>NaN</td>\n",
       "      <td>We are happy to welcome you to our apartment, ...</td>\n",
       "      <td>We are happy to welcome you to our apartment, ...</td>\n",
       "      <td>none</td>\n",
       "      <td>NaN</td>\n",
       "      <td>...</td>\n",
       "      <td>f</td>\n",
       "      <td>f</td>\n",
       "      <td>moderate</td>\n",
       "      <td>f</td>\n",
       "      <td>f</td>\n",
       "      <td>1</td>\n",
       "      <td>1</td>\n",
       "      <td>0</td>\n",
       "      <td>0</td>\n",
       "      <td>1.62</td>\n",
       "    </tr>\n",
       "    <tr>\n",
       "      <th>2</th>\n",
       "      <td>289597</td>\n",
       "      <td>https://www.airbnb.com/rooms/289597</td>\n",
       "      <td>20191230223155</td>\n",
       "      <td>2019-12-31</td>\n",
       "      <td>Private apt in central Tokyo #203</td>\n",
       "      <td>NaN</td>\n",
       "      <td>::::::::::::::::::::::::::::::::::::::::::::::...</td>\n",
       "      <td>::::::::::::::::::::::::::::::::::::::::::::::...</td>\n",
       "      <td>none</td>\n",
       "      <td>NaN</td>\n",
       "      <td>...</td>\n",
       "      <td>t</td>\n",
       "      <td>f</td>\n",
       "      <td>strict_14_with_grace_period</td>\n",
       "      <td>f</td>\n",
       "      <td>f</td>\n",
       "      <td>2</td>\n",
       "      <td>2</td>\n",
       "      <td>0</td>\n",
       "      <td>0</td>\n",
       "      <td>1.22</td>\n",
       "    </tr>\n",
       "    <tr>\n",
       "      <th>3</th>\n",
       "      <td>370759</td>\n",
       "      <td>https://www.airbnb.com/rooms/370759</td>\n",
       "      <td>20191230223155</td>\n",
       "      <td>2019-12-31</td>\n",
       "      <td>Cozy flat #203, local area YET 10 mins to shib...</td>\n",
       "      <td>So close to busy centers, yet so peaceful! Jus...</td>\n",
       "      <td>Cozy and Relaxing, at home feeling in a reside...</td>\n",
       "      <td>So close to busy centers, yet so peaceful! Jus...</td>\n",
       "      <td>none</td>\n",
       "      <td>Peaceful and residential area just 10 mins awa...</td>\n",
       "      <td>...</td>\n",
       "      <td>t</td>\n",
       "      <td>f</td>\n",
       "      <td>strict_14_with_grace_period</td>\n",
       "      <td>f</td>\n",
       "      <td>f</td>\n",
       "      <td>3</td>\n",
       "      <td>3</td>\n",
       "      <td>0</td>\n",
       "      <td>0</td>\n",
       "      <td>1.45</td>\n",
       "    </tr>\n",
       "    <tr>\n",
       "      <th>4</th>\n",
       "      <td>700253</td>\n",
       "      <td>https://www.airbnb.com/rooms/700253</td>\n",
       "      <td>20191230223155</td>\n",
       "      <td>2019-12-31</td>\n",
       "      <td>Private apt in central Tokyo #201</td>\n",
       "      <td>NaN</td>\n",
       "      <td>::::::::::::::::::::::::::::::::::::::::::::::...</td>\n",
       "      <td>::::::::::::::::::::::::::::::::::::::::::::::...</td>\n",
       "      <td>none</td>\n",
       "      <td>NaN</td>\n",
       "      <td>...</td>\n",
       "      <td>f</td>\n",
       "      <td>f</td>\n",
       "      <td>strict_14_with_grace_period</td>\n",
       "      <td>f</td>\n",
       "      <td>f</td>\n",
       "      <td>2</td>\n",
       "      <td>2</td>\n",
       "      <td>0</td>\n",
       "      <td>0</td>\n",
       "      <td>1.17</td>\n",
       "    </tr>\n",
       "  </tbody>\n",
       "</table>\n",
       "<p>5 rows × 106 columns</p>\n",
       "</div>"
      ],
      "text/plain": [
       "       id                          listing_url       scrape_id last_scraped  \\\n",
       "0   35303   https://www.airbnb.com/rooms/35303  20191230223155   2019-12-30   \n",
       "1  197677  https://www.airbnb.com/rooms/197677  20191230223155   2019-12-31   \n",
       "2  289597  https://www.airbnb.com/rooms/289597  20191230223155   2019-12-31   \n",
       "3  370759  https://www.airbnb.com/rooms/370759  20191230223155   2019-12-31   \n",
       "4  700253  https://www.airbnb.com/rooms/700253  20191230223155   2019-12-31   \n",
       "\n",
       "                                                name  \\\n",
       "0  La Casa Gaienmae C Harajuku, Omotesando is nearby   \n",
       "1                          Oshiage Holiday Apartment   \n",
       "2                  Private apt in central Tokyo #203   \n",
       "3  Cozy flat #203, local area YET 10 mins to shib...   \n",
       "4                  Private apt in central Tokyo #201   \n",
       "\n",
       "                                             summary  \\\n",
       "0  This shared flat is locating at very close to ...   \n",
       "1                                                NaN   \n",
       "2                                                NaN   \n",
       "3  So close to busy centers, yet so peaceful! Jus...   \n",
       "4                                                NaN   \n",
       "\n",
       "                                               space  \\\n",
       "0  This apartment is 3 bedroom flat shared with t...   \n",
       "1  We are happy to welcome you to our apartment, ...   \n",
       "2  ::::::::::::::::::::::::::::::::::::::::::::::...   \n",
       "3  Cozy and Relaxing, at home feeling in a reside...   \n",
       "4  ::::::::::::::::::::::::::::::::::::::::::::::...   \n",
       "\n",
       "                                         description experiences_offered  \\\n",
       "0  This shared flat is locating at very close to ...                none   \n",
       "1  We are happy to welcome you to our apartment, ...                none   \n",
       "2  ::::::::::::::::::::::::::::::::::::::::::::::...                none   \n",
       "3  So close to busy centers, yet so peaceful! Jus...                none   \n",
       "4  ::::::::::::::::::::::::::::::::::::::::::::::...                none   \n",
       "\n",
       "                               neighborhood_overview  ... instant_bookable  \\\n",
       "0  10 min walking to Harajuku ~ Urahara ~ Omotesa...  ...                f   \n",
       "1                                                NaN  ...                f   \n",
       "2                                                NaN  ...                t   \n",
       "3  Peaceful and residential area just 10 mins awa...  ...                t   \n",
       "4                                                NaN  ...                f   \n",
       "\n",
       "  is_business_travel_ready          cancellation_policy  \\\n",
       "0                        f  strict_14_with_grace_period   \n",
       "1                        f                     moderate   \n",
       "2                        f  strict_14_with_grace_period   \n",
       "3                        f  strict_14_with_grace_period   \n",
       "4                        f  strict_14_with_grace_period   \n",
       "\n",
       "  require_guest_profile_picture require_guest_phone_verification  \\\n",
       "0                             f                                f   \n",
       "1                             f                                f   \n",
       "2                             f                                f   \n",
       "3                             f                                f   \n",
       "4                             f                                f   \n",
       "\n",
       "   calculated_host_listings_count  \\\n",
       "0                               3   \n",
       "1                               1   \n",
       "2                               2   \n",
       "3                               3   \n",
       "4                               2   \n",
       "\n",
       "   calculated_host_listings_count_entire_homes  \\\n",
       "0                                            2   \n",
       "1                                            1   \n",
       "2                                            2   \n",
       "3                                            3   \n",
       "4                                            2   \n",
       "\n",
       "  calculated_host_listings_count_private_rooms  \\\n",
       "0                                            1   \n",
       "1                                            0   \n",
       "2                                            0   \n",
       "3                                            0   \n",
       "4                                            0   \n",
       "\n",
       "   calculated_host_listings_count_shared_rooms  reviews_per_month  \n",
       "0                                            0               0.18  \n",
       "1                                            0               1.62  \n",
       "2                                            0               1.22  \n",
       "3                                            0               1.45  \n",
       "4                                            0               1.17  \n",
       "\n",
       "[5 rows x 106 columns]"
      ]
     },
     "execution_count": 2,
     "metadata": {},
     "output_type": "execute_result"
    }
   ],
   "source": [
    "listings_df = pd.read_csv('/mnt/data/public/insideairbnb/data.insideairbnb.com/'\n",
    "                          'japan/kantō/tokyo/2019-12-30/data/listings.csv.gz', \n",
    "                          compression='gzip',\n",
    "                          low_memory=False)\n",
    "print(listings_df.shape)\n",
    "listings_df.head(5)"
   ]
  },
  {
   "cell_type": "markdown",
   "metadata": {},
   "source": [
    "### Data pre-processing \n",
    "\n",
    "All listings made by superhosts were first isolated.  "
   ]
  },
  {
   "cell_type": "code",
   "execution_count": 3,
   "metadata": {
    "ExecuteTime": {
     "end_time": "2021-08-11T14:27:29.673151Z",
     "start_time": "2021-08-11T14:27:29.661130Z"
    }
   },
   "outputs": [],
   "source": [
    "superhosts_listings_df = listings_df[listings_df['host_is_superhost']=='t']"
   ]
  },
  {
   "cell_type": "markdown",
   "metadata": {},
   "source": [
    "The following columns were dropped because all these are non-existent: `thumbnail_url`, `medium_url`, `xl_picture_url`, `neighbourhood_group_cleansed`, `jurisdiction_names`, `host_acceptance_rate`, and `experiences_offered`.   These may have been phased out as the Airbnb dataset evolved. "
   ]
  },
  {
   "cell_type": "code",
   "execution_count": 4,
   "metadata": {
    "ExecuteTime": {
     "end_time": "2021-08-11T14:27:31.508729Z",
     "start_time": "2021-08-11T14:27:31.499690Z"
    }
   },
   "outputs": [],
   "source": [
    "superhosts_listings_df = superhosts_listings_df.drop(['thumbnail_url', \n",
    "         'medium_url', 'xl_picture_url', 'neighbourhood_group_cleansed', \n",
    "         'jurisdiction_names', 'host_acceptance_rate', \n",
    "         'experiences_offered'], axis=1)"
   ]
  },
  {
   "cell_type": "markdown",
   "metadata": {},
   "source": [
    "The following columns were dropped because all listings have similar values in these columns. \n",
    "\n",
    "1. `is_business_travel_ready`: signifies if an Airbnb listing is ready for business travel, and interestingly all listings are *not* ready for business travel.  This may also be traced back to the researchers' chosen crawl date: December 30, 2019, a date covered by the holiday season. \n",
    "2. `requires_license`: signifies if a host requires a license from the guest to be able to stay. This will be discussed more on _[blank]_. All listings surprisingly require a license. \n",
    "3. `license`: details out a host's license.  All listings of superhosts have a registered license. \n",
    "4. `has_availability`: All listings are available. \n",
    "5. `country_code`: All listings follow the `JP` code. \n",
    "6. `country`: All listings specify `Japan`. \n",
    "7. `host_is_superhost`: All listings are owned by superhosts. \n",
    "8. `state`: All listings are found in Tokyo. "
   ]
  },
  {
   "cell_type": "code",
   "execution_count": 5,
   "metadata": {
    "ExecuteTime": {
     "end_time": "2021-08-11T14:27:33.206392Z",
     "start_time": "2021-08-11T14:27:33.196995Z"
    }
   },
   "outputs": [],
   "source": [
    "superhosts_listings_df = superhosts_listings_df\\\n",
    "                            .drop(['is_business_travel_ready',\n",
    "                                   'requires_license', 'license',\n",
    "                                   'has_availability', 'country_code',\n",
    "                                   'country', 'host_is_superhost', 'state'], \n",
    "                                  axis=1)"
   ]
  },
  {
   "cell_type": "markdown",
   "metadata": {},
   "source": [
    "With the various data types present in the dataset, the columns of the dataset were sorted for batch processing: `existence_columns`, `to_split_columns`, `boolean_columns`, `numerical_columns`, `process_to_numerical_columns`, `dummify_columns`, and `ordinal_columns`."
   ]
  },
  {
   "cell_type": "markdown",
   "metadata": {},
   "source": [
    "`existence_columns` pertained to text data that described a particular listing.  For ease of analysis, this will be converted into Boolean variables, 1 if it contains text and 0 if none. "
   ]
  },
  {
   "cell_type": "code",
   "execution_count": 6,
   "metadata": {
    "ExecuteTime": {
     "end_time": "2021-08-11T14:27:34.878819Z",
     "start_time": "2021-08-11T14:27:34.873730Z"
    }
   },
   "outputs": [],
   "source": [
    "existence_columns = ['summary', 'space', \n",
    "                     'description', 'neighborhood_overview', \n",
    "                     'notes', 'transit', 'access', 'interaction', \n",
    "                     'house_rules', 'host_location', 'host_about', \n",
    "                     'host_neighbourhood', 'street', 'neighbourhood', \n",
    "                     'smart_location']"
   ]
  },
  {
   "cell_type": "code",
   "execution_count": 7,
   "metadata": {
    "ExecuteTime": {
     "end_time": "2021-08-11T14:27:36.814447Z",
     "start_time": "2021-08-11T14:27:36.725855Z"
    }
   },
   "outputs": [
    {
     "data": {
      "text/html": [
       "<div>\n",
       "<style scoped>\n",
       "    .dataframe tbody tr th:only-of-type {\n",
       "        vertical-align: middle;\n",
       "    }\n",
       "\n",
       "    .dataframe tbody tr th {\n",
       "        vertical-align: top;\n",
       "    }\n",
       "\n",
       "    .dataframe thead th {\n",
       "        text-align: right;\n",
       "    }\n",
       "</style>\n",
       "<table border=\"1\" class=\"dataframe\">\n",
       "  <thead>\n",
       "    <tr style=\"text-align: right;\">\n",
       "      <th></th>\n",
       "      <th>contains_summary</th>\n",
       "      <th>contains_space</th>\n",
       "      <th>contains_description</th>\n",
       "      <th>contains_neighborhood_overview</th>\n",
       "      <th>contains_notes</th>\n",
       "      <th>contains_transit</th>\n",
       "      <th>contains_access</th>\n",
       "      <th>contains_interaction</th>\n",
       "      <th>contains_house_rules</th>\n",
       "      <th>contains_host_location</th>\n",
       "      <th>contains_host_about</th>\n",
       "      <th>contains_host_neighbourhood</th>\n",
       "      <th>contains_street</th>\n",
       "      <th>contains_neighbourhood</th>\n",
       "      <th>contains_smart_location</th>\n",
       "    </tr>\n",
       "  </thead>\n",
       "  <tbody>\n",
       "    <tr>\n",
       "      <th>1</th>\n",
       "      <td>0</td>\n",
       "      <td>1</td>\n",
       "      <td>1</td>\n",
       "      <td>0</td>\n",
       "      <td>0</td>\n",
       "      <td>0</td>\n",
       "      <td>0</td>\n",
       "      <td>0</td>\n",
       "      <td>1</td>\n",
       "      <td>1</td>\n",
       "      <td>1</td>\n",
       "      <td>1</td>\n",
       "      <td>1</td>\n",
       "      <td>1</td>\n",
       "      <td>1</td>\n",
       "    </tr>\n",
       "    <tr>\n",
       "      <th>5</th>\n",
       "      <td>1</td>\n",
       "      <td>1</td>\n",
       "      <td>1</td>\n",
       "      <td>1</td>\n",
       "      <td>1</td>\n",
       "      <td>1</td>\n",
       "      <td>1</td>\n",
       "      <td>1</td>\n",
       "      <td>1</td>\n",
       "      <td>1</td>\n",
       "      <td>1</td>\n",
       "      <td>1</td>\n",
       "      <td>1</td>\n",
       "      <td>1</td>\n",
       "      <td>1</td>\n",
       "    </tr>\n",
       "    <tr>\n",
       "      <th>7</th>\n",
       "      <td>1</td>\n",
       "      <td>1</td>\n",
       "      <td>1</td>\n",
       "      <td>0</td>\n",
       "      <td>0</td>\n",
       "      <td>1</td>\n",
       "      <td>1</td>\n",
       "      <td>1</td>\n",
       "      <td>1</td>\n",
       "      <td>1</td>\n",
       "      <td>1</td>\n",
       "      <td>1</td>\n",
       "      <td>1</td>\n",
       "      <td>1</td>\n",
       "      <td>1</td>\n",
       "    </tr>\n",
       "    <tr>\n",
       "      <th>8</th>\n",
       "      <td>1</td>\n",
       "      <td>1</td>\n",
       "      <td>1</td>\n",
       "      <td>1</td>\n",
       "      <td>0</td>\n",
       "      <td>1</td>\n",
       "      <td>1</td>\n",
       "      <td>1</td>\n",
       "      <td>1</td>\n",
       "      <td>1</td>\n",
       "      <td>1</td>\n",
       "      <td>1</td>\n",
       "      <td>1</td>\n",
       "      <td>1</td>\n",
       "      <td>1</td>\n",
       "    </tr>\n",
       "    <tr>\n",
       "      <th>9</th>\n",
       "      <td>1</td>\n",
       "      <td>1</td>\n",
       "      <td>1</td>\n",
       "      <td>1</td>\n",
       "      <td>1</td>\n",
       "      <td>1</td>\n",
       "      <td>1</td>\n",
       "      <td>1</td>\n",
       "      <td>1</td>\n",
       "      <td>1</td>\n",
       "      <td>1</td>\n",
       "      <td>0</td>\n",
       "      <td>1</td>\n",
       "      <td>0</td>\n",
       "      <td>1</td>\n",
       "    </tr>\n",
       "  </tbody>\n",
       "</table>\n",
       "</div>"
      ],
      "text/plain": [
       "   contains_summary  contains_space  contains_description  \\\n",
       "1                 0               1                     1   \n",
       "5                 1               1                     1   \n",
       "7                 1               1                     1   \n",
       "8                 1               1                     1   \n",
       "9                 1               1                     1   \n",
       "\n",
       "   contains_neighborhood_overview  contains_notes  contains_transit  \\\n",
       "1                               0               0                 0   \n",
       "5                               1               1                 1   \n",
       "7                               0               0                 1   \n",
       "8                               1               0                 1   \n",
       "9                               1               1                 1   \n",
       "\n",
       "   contains_access  contains_interaction  contains_house_rules  \\\n",
       "1                0                     0                     1   \n",
       "5                1                     1                     1   \n",
       "7                1                     1                     1   \n",
       "8                1                     1                     1   \n",
       "9                1                     1                     1   \n",
       "\n",
       "   contains_host_location  contains_host_about  contains_host_neighbourhood  \\\n",
       "1                       1                    1                            1   \n",
       "5                       1                    1                            1   \n",
       "7                       1                    1                            1   \n",
       "8                       1                    1                            1   \n",
       "9                       1                    1                            0   \n",
       "\n",
       "   contains_street  contains_neighbourhood  contains_smart_location  \n",
       "1                1                       1                        1  \n",
       "5                1                       1                        1  \n",
       "7                1                       1                        1  \n",
       "8                1                       1                        1  \n",
       "9                1                       0                        1  "
      ]
     },
     "execution_count": 7,
     "metadata": {},
     "output_type": "execute_result"
    }
   ],
   "source": [
    "superhosts_listings_df[existence_columns + \n",
    "                       list(map(lambda x: f'contains_{x}', \n",
    "                                existence_columns))] = \\\n",
    "                        superhosts_listings_df[existence_columns].\\\n",
    "                        assign(**{f'contains_{k}': \n",
    "                                  superhosts_listings_df[k].isna().\\\n",
    "                                  apply(lambda x: 0 if x else 1) \n",
    "                                  for k in existence_columns})\n",
    "superhosts_listings_df[superhosts_listings_df.columns[\\\n",
    "        superhosts_listings_df.columns.str.contains('contains_')]].head(5)"
   ]
  },
  {
   "cell_type": "markdown",
   "metadata": {},
   "source": [
    "`to_split_columns` pertain to `host_verifications` and `amenities`.  Both are lists encoded as a string variable. `host_verifications` details out the various methods as to how a superhost is verified.  A listing with `[Facebook, Government ID, Email]` means the host of the listing is verified based on these methods.  The list can contain any of the following verification methods: `weibo`, `zhima_selfie`, `reviews`, `government_id`, `kba`, `facebook`, `offline_government_id`, `google`, `sesame_offline`, `selfie`, `jumio`, `work_email`, `manual_offline`, `manual_online`, `identity_manual`, `phone`, `sesame`, `email`, or `sent_id`. Host verifications was converted into Boolean variable, one column for each method. It takes the value of 1 if the host is verified through the method, and 0 if not."
   ]
  },
  {
   "cell_type": "markdown",
   "metadata": {},
   "source": [
    "Each listing also has an `amenities`, a list containing all the available amenities in an Airbnb.  A listing can have 154 possible amenities to detail out which covers items related to the kitchen, bathroom, parking, laundry, entertainment options, accessibility features for persons with disabilities, as well as child-friendly features (e.g. crib, toys for babies), among others.  This was split and turned into a Boolean variable, one column for each method.  It takes the value of 1 if the amenity exists in the Airbnb listing, and 0 if not. "
   ]
  },
  {
   "cell_type": "code",
   "execution_count": 8,
   "metadata": {
    "ExecuteTime": {
     "end_time": "2021-08-11T14:27:39.659545Z",
     "start_time": "2021-08-11T14:27:39.655574Z"
    }
   },
   "outputs": [],
   "source": [
    "to_split_columns = ['host_verifications', 'amenities']"
   ]
  },
  {
   "cell_type": "code",
   "execution_count": 9,
   "metadata": {
    "ExecuteTime": {
     "end_time": "2021-08-11T14:28:06.862298Z",
     "start_time": "2021-08-11T14:27:42.916307Z"
    },
    "scrolled": true
   },
   "outputs": [
    {
     "data": {
      "application/vnd.jupyter.widget-view+json": {
       "model_id": "931c2d1873344ce1a5475644b2b8affa",
       "version_major": 2,
       "version_minor": 0
      },
      "text/plain": [
       "0it [00:00, ?it/s]"
      ]
     },
     "metadata": {},
     "output_type": "display_data"
    },
    {
     "name": "stderr",
     "output_type": "stream",
     "text": [
      "/opt/conda/lib/python3.8/site-packages/pandas/core/indexing.py:1637: SettingWithCopyWarning: \n",
      "A value is trying to be set on a copy of a slice from a DataFrame\n",
      "\n",
      "See the caveats in the documentation: https://pandas.pydata.org/pandas-docs/stable/user_guide/indexing.html#returning-a-view-versus-a-copy\n",
      "  self._setitem_single_block(indexer, value, name)\n"
     ]
    }
   ],
   "source": [
    "superhosts_listings_df.loc[\\\n",
    "           superhosts_listings_df['host_verifications']=='None', \n",
    "                           ['host_verifications']] = '[]'\n",
    "\n",
    "\n",
    "host_verifications = superhosts_listings_df[to_split_columns]\\\n",
    "                                            ['host_verifications']\n",
    "\n",
    "set_host_verifications = set()\n",
    "[[set_host_verifications.add(hv) for hv in y] for \n",
    " y in list(map(lambda x: json.loads(x.replace(\"'\", '\"')),\n",
    "               host_verifications))]\n",
    "set_host_verifications = list(set_host_verifications)\n",
    "\n",
    "superhosts_listings_df = superhosts_listings_df.assign(\\\n",
    "    **{f'host_verifications_{k}':0 for k in set_host_verifications})\n",
    "for idx, hvs in tqdm(enumerate(list(map(lambda x: \n",
    "                                        json.loads(x.replace(\"'\", '\"')), \n",
    "                                        host_verifications)))):\n",
    "    for hv in hvs:\n",
    "        superhosts_listings_df[f'host_verifications_{hv}'].iloc[idx] = 1"
   ]
  },
  {
   "cell_type": "code",
   "execution_count": 10,
   "metadata": {
    "ExecuteTime": {
     "end_time": "2021-08-11T14:30:17.236109Z",
     "start_time": "2021-08-11T14:28:18.495955Z"
    }
   },
   "outputs": [
    {
     "data": {
      "application/vnd.jupyter.widget-view+json": {
       "model_id": "af5b6b8fcb8f4fb4bd65d4d55a4497d3",
       "version_major": 2,
       "version_minor": 0
      },
      "text/plain": [
       "0it [00:00, ?it/s]"
      ]
     },
     "metadata": {},
     "output_type": "display_data"
    }
   ],
   "source": [
    "amenities = superhosts_listings_df[to_split_columns]['amenities']\n",
    "set_amenities = set()\n",
    "amnty_pattern = re.compile(r'(,)?(\\w+),')\n",
    "\n",
    "[[set_amenities.add(amnty.replace('\"', '')) for amnty in y.split(',')] \n",
    " for y in list(map(lambda x: \n",
    "                   amnty_pattern.sub(r'\\1\"\\2\",', x[1:-1]), amenities))]\n",
    "set_amenities = list(filter(lambda x: x, (set_amenities)))\n",
    "# set_amenities\n",
    "\n",
    "superhosts_listings_df = superhosts_listings_df.assign(**{f'amenities_{k}':0 \n",
    "                                                          for k in \n",
    "                                                          set_amenities})\n",
    "for idx, amntis in tqdm(enumerate([[amnty.replace('\"', '') for amnty in \n",
    "                                    y.split(',')] for y in \n",
    "                                   list(map(lambda x: \n",
    "                                            amnty_pattern.sub(r'\\1\"\\2\",', \n",
    "                                                              x[1:-1]), \n",
    "                                            amenities))])):\n",
    "    for amnty in amntis:\n",
    "        if amnty:\n",
    "            superhosts_listings_df[f'amenities_{amnty}'].iloc[idx] = 1"
   ]
  },
  {
   "cell_type": "markdown",
   "metadata": {},
   "source": [
    "The original Boolean columns listed below can take a value of  `t` or `f`.  These were changed to `1` and `0`, respectively. "
   ]
  },
  {
   "cell_type": "code",
   "execution_count": 11,
   "metadata": {
    "ExecuteTime": {
     "end_time": "2021-08-11T14:30:19.942141Z",
     "start_time": "2021-08-11T14:30:19.938084Z"
    }
   },
   "outputs": [],
   "source": [
    "boolean_columns = ['host_has_profile_pic', 'host_identity_verified', \n",
    "                   'is_location_exact', 'instant_bookable', \n",
    "                   'require_guest_profile_picture', \n",
    "                   'require_guest_phone_verification']"
   ]
  },
  {
   "cell_type": "code",
   "execution_count": 12,
   "metadata": {
    "ExecuteTime": {
     "end_time": "2021-08-11T14:30:21.882345Z",
     "start_time": "2021-08-11T14:30:21.813145Z"
    }
   },
   "outputs": [],
   "source": [
    "superhosts_listings_df[boolean_columns] = \\\n",
    "    superhosts_listings_df[boolean_columns].applymap(lambda x: 1 if x == 't' else 0)"
   ]
  },
  {
   "cell_type": "markdown",
   "metadata": {},
   "source": [
    "Columns that refer to price were originally encoded as string values because of the presence of currency.  These were transformed into float variables.   "
   ]
  },
  {
   "cell_type": "code",
   "execution_count": 13,
   "metadata": {
    "ExecuteTime": {
     "end_time": "2021-08-11T14:30:23.745889Z",
     "start_time": "2021-08-11T14:30:23.739252Z"
    }
   },
   "outputs": [],
   "source": [
    "numerical_columns = ['host_listings_count', 'accommodates', \n",
    "                     'bathrooms', 'bedrooms', \n",
    "                     'beds', 'square_feet', \n",
    "                     'cleaning_fee', 'guests_included', \n",
    "                     'minimum_nights', 'maximum_nights', \n",
    "                     'minimum_minimum_nights', 'maximum_minimum_nights', \n",
    "                     'minimum_maximum_nights', 'maximum_maximum_nights', \n",
    "                     'minimum_nights_avg_ntm', 'maximum_nights_avg_ntm', \n",
    "                     'availability_30', 'availability_60', 'availability_90',\n",
    "                     'availability_365', 'number_of_reviews', \n",
    "                     'number_of_reviews_ltm', 'review_scores_rating', \n",
    "                     'review_scores_accuracy', 'review_scores_cleanliness', \n",
    "                     'review_scores_checkin', 'review_scores_communication', \n",
    "                     'review_scores_location', 'review_scores_value', \n",
    "                     'calculated_host_listings_count', \n",
    "                     'calculated_host_listings_count_entire_homes', \n",
    "                     'calculated_host_listings_count_private_rooms', \n",
    "                     'calculated_host_listings_count_shared_rooms', \n",
    "                     'reviews_per_month']"
   ]
  },
  {
   "cell_type": "code",
   "execution_count": 14,
   "metadata": {
    "ExecuteTime": {
     "end_time": "2021-08-11T14:30:25.121904Z",
     "start_time": "2021-08-11T14:30:25.117658Z"
    }
   },
   "outputs": [],
   "source": [
    "process_to_numerical_columns = ['price', 'weekly_price', \n",
    "                                'monthly_price', 'security_deposit', \n",
    "                                'cleaning_fee', 'extra_people']"
   ]
  },
  {
   "cell_type": "code",
   "execution_count": 15,
   "metadata": {
    "ExecuteTime": {
     "end_time": "2021-08-11T14:30:27.619036Z",
     "start_time": "2021-08-11T14:30:27.552906Z"
    }
   },
   "outputs": [],
   "source": [
    "numerical_patterns = re.compile(r'[,|\\$]')\n",
    "superhosts_listings_df[process_to_numerical_columns] = \\\n",
    "    superhosts_listings_df[process_to_numerical_columns].fillna('-1').\\\n",
    "    applymap(lambda x: numerical_patterns.sub('', str(x))).astype(float)"
   ]
  },
  {
   "cell_type": "code",
   "execution_count": 16,
   "metadata": {
    "ExecuteTime": {
     "end_time": "2021-08-11T14:30:29.499601Z",
     "start_time": "2021-08-11T14:30:29.482744Z"
    }
   },
   "outputs": [],
   "source": [
    "superhosts_listings_df['host_response_rate'] = \\\n",
    "    superhosts_listings_df['host_response_rate'].str.replace('%', \n",
    "                                                             '').astype(float)"
   ]
  },
  {
   "cell_type": "markdown",
   "metadata": {},
   "source": [
    "Categorical variables were transformed into dummy variables. This will be dummified along with the rest of the dataset."
   ]
  },
  {
   "cell_type": "code",
   "execution_count": 17,
   "metadata": {
    "ExecuteTime": {
     "end_time": "2021-08-11T14:30:31.120271Z",
     "start_time": "2021-08-11T14:30:31.115590Z"
    }
   },
   "outputs": [],
   "source": [
    "dummify_columns = ['property_type', 'room_type', 'bed_type', \n",
    "                   'cancellation_policy', 'market']"
   ]
  },
  {
   "cell_type": "markdown",
   "metadata": {},
   "source": [
    "Finally, `host_response_time` was transformed into an ordinal variable instead of a categorical variable, as it can take any of the following values: `within an hour`, `within a few hours`, `within a day`, `a few days or more`. These variables were replaced with 0, 1, 2, and 3, respectively. "
   ]
  },
  {
   "cell_type": "code",
   "execution_count": 18,
   "metadata": {
    "ExecuteTime": {
     "end_time": "2021-08-11T14:30:33.091733Z",
     "start_time": "2021-08-11T14:30:33.087067Z"
    }
   },
   "outputs": [],
   "source": [
    "ordinal_columns = ['host_response_time']"
   ]
  },
  {
   "cell_type": "code",
   "execution_count": 19,
   "metadata": {
    "ExecuteTime": {
     "end_time": "2021-08-11T14:30:34.564911Z",
     "start_time": "2021-08-11T14:30:34.552622Z"
    }
   },
   "outputs": [],
   "source": [
    "superhosts_listings_df['host_response_time'] = \\\n",
    "    superhosts_listings_df['host_response_time']\\\n",
    "                            .map({'within an hour': 0, \n",
    "                                  'within a few hours': 1, \n",
    "                                  'within a day': 2, \n",
    "                                  'a few days or more': 3})\n",
    "superhosts_listings_df['cancellation_policy'] = \\\n",
    "    superhosts_listings_df['cancellation_policy']\\\n",
    "                            .map({'flexible': 0, \n",
    "                                  'moderate': 1, \n",
    "                                  'strict_14_with_grace_period': 2, \n",
    "                                  'strict': 3, 'super_strict_30': 4, \n",
    "                                  'super_strict_60': 5})"
   ]
  },
  {
   "cell_type": "code",
   "execution_count": 20,
   "metadata": {
    "ExecuteTime": {
     "end_time": "2021-08-11T14:30:37.832380Z",
     "start_time": "2021-08-11T14:30:37.749695Z"
    }
   },
   "outputs": [
    {
     "data": {
      "text/html": [
       "<div>\n",
       "<style scoped>\n",
       "    .dataframe tbody tr th:only-of-type {\n",
       "        vertical-align: middle;\n",
       "    }\n",
       "\n",
       "    .dataframe tbody tr th {\n",
       "        vertical-align: top;\n",
       "    }\n",
       "\n",
       "    .dataframe thead th {\n",
       "        text-align: right;\n",
       "    }\n",
       "</style>\n",
       "<table border=\"1\" class=\"dataframe\">\n",
       "  <thead>\n",
       "    <tr style=\"text-align: right;\">\n",
       "      <th></th>\n",
       "      <th>id</th>\n",
       "      <th>listing_url</th>\n",
       "      <th>scrape_id</th>\n",
       "      <th>last_scraped</th>\n",
       "      <th>name</th>\n",
       "      <th>picture_url</th>\n",
       "      <th>host_id</th>\n",
       "      <th>host_url</th>\n",
       "      <th>host_name</th>\n",
       "      <th>host_since</th>\n",
       "      <th>...</th>\n",
       "      <th>amenities_Free street parking</th>\n",
       "      <th>amenities_TV</th>\n",
       "      <th>amenities_Crib</th>\n",
       "      <th>amenities_Heating</th>\n",
       "      <th>amenities_Stove</th>\n",
       "      <th>amenities_Indoor fireplace</th>\n",
       "      <th>amenities_Convection oven</th>\n",
       "      <th>amenities_Host greets you</th>\n",
       "      <th>amenities_Suitable for events</th>\n",
       "      <th>amenities_Other</th>\n",
       "    </tr>\n",
       "  </thead>\n",
       "  <tbody>\n",
       "    <tr>\n",
       "      <th>1</th>\n",
       "      <td>197677</td>\n",
       "      <td>https://www.airbnb.com/rooms/197677</td>\n",
       "      <td>20191230223155</td>\n",
       "      <td>2019-12-31</td>\n",
       "      <td>Oshiage Holiday Apartment</td>\n",
       "      <td>https://a0.muscache.com/im/pictures/38437056/d...</td>\n",
       "      <td>964081</td>\n",
       "      <td>https://www.airbnb.com/users/show/964081</td>\n",
       "      <td>Yoshimi &amp; Marek</td>\n",
       "      <td>2011-08-13</td>\n",
       "      <td>...</td>\n",
       "      <td>0</td>\n",
       "      <td>1</td>\n",
       "      <td>0</td>\n",
       "      <td>1</td>\n",
       "      <td>0</td>\n",
       "      <td>0</td>\n",
       "      <td>0</td>\n",
       "      <td>0</td>\n",
       "      <td>0</td>\n",
       "      <td>0</td>\n",
       "    </tr>\n",
       "    <tr>\n",
       "      <th>5</th>\n",
       "      <td>776070</td>\n",
       "      <td>https://www.airbnb.com/rooms/776070</td>\n",
       "      <td>20191230223155</td>\n",
       "      <td>2019-12-31</td>\n",
       "      <td>Kero-kero house room 1</td>\n",
       "      <td>https://a0.muscache.com/im/pictures/efd9f039-d...</td>\n",
       "      <td>801494</td>\n",
       "      <td>https://www.airbnb.com/users/show/801494</td>\n",
       "      <td>Kotaro Kei And Litte Miya</td>\n",
       "      <td>2011-07-10</td>\n",
       "      <td>...</td>\n",
       "      <td>0</td>\n",
       "      <td>1</td>\n",
       "      <td>0</td>\n",
       "      <td>1</td>\n",
       "      <td>0</td>\n",
       "      <td>0</td>\n",
       "      <td>0</td>\n",
       "      <td>0</td>\n",
       "      <td>0</td>\n",
       "      <td>1</td>\n",
       "    </tr>\n",
       "    <tr>\n",
       "      <th>7</th>\n",
       "      <td>899003</td>\n",
       "      <td>https://www.airbnb.com/rooms/899003</td>\n",
       "      <td>20191230223155</td>\n",
       "      <td>2019-12-31</td>\n",
       "      <td>Classy room @Shinjuku, Takadanoba</td>\n",
       "      <td>https://a0.muscache.com/im/pictures/20005274/1...</td>\n",
       "      <td>4799233</td>\n",
       "      <td>https://www.airbnb.com/users/show/4799233</td>\n",
       "      <td>Yu</td>\n",
       "      <td>2013-01-22</td>\n",
       "      <td>...</td>\n",
       "      <td>0</td>\n",
       "      <td>1</td>\n",
       "      <td>0</td>\n",
       "      <td>0</td>\n",
       "      <td>0</td>\n",
       "      <td>0</td>\n",
       "      <td>0</td>\n",
       "      <td>0</td>\n",
       "      <td>0</td>\n",
       "      <td>1</td>\n",
       "    </tr>\n",
       "    <tr>\n",
       "      <th>8</th>\n",
       "      <td>905944</td>\n",
       "      <td>https://www.airbnb.com/rooms/905944</td>\n",
       "      <td>20191230223155</td>\n",
       "      <td>2019-12-31</td>\n",
       "      <td>4F - Near Shinjuku &amp; Shibuya w/Free WiFi</td>\n",
       "      <td>https://a0.muscache.com/im/pictures/16480116/b...</td>\n",
       "      <td>4847803</td>\n",
       "      <td>https://www.airbnb.com/users/show/4847803</td>\n",
       "      <td>Best Stay In Tokyo!</td>\n",
       "      <td>2013-01-25</td>\n",
       "      <td>...</td>\n",
       "      <td>0</td>\n",
       "      <td>1</td>\n",
       "      <td>0</td>\n",
       "      <td>1</td>\n",
       "      <td>1</td>\n",
       "      <td>0</td>\n",
       "      <td>0</td>\n",
       "      <td>0</td>\n",
       "      <td>0</td>\n",
       "      <td>0</td>\n",
       "    </tr>\n",
       "    <tr>\n",
       "      <th>9</th>\n",
       "      <td>1007534</td>\n",
       "      <td>https://www.airbnb.com/rooms/1007534</td>\n",
       "      <td>20191230223155</td>\n",
       "      <td>2019-12-31</td>\n",
       "      <td>Kichijoji Parkside Attic Room</td>\n",
       "      <td>https://a0.muscache.com/im/pictures/47a84ae5-d...</td>\n",
       "      <td>5068769</td>\n",
       "      <td>https://www.airbnb.com/users/show/5068769</td>\n",
       "      <td>Caroline</td>\n",
       "      <td>2013-02-13</td>\n",
       "      <td>...</td>\n",
       "      <td>0</td>\n",
       "      <td>0</td>\n",
       "      <td>0</td>\n",
       "      <td>1</td>\n",
       "      <td>0</td>\n",
       "      <td>0</td>\n",
       "      <td>0</td>\n",
       "      <td>1</td>\n",
       "      <td>0</td>\n",
       "      <td>0</td>\n",
       "    </tr>\n",
       "  </tbody>\n",
       "</table>\n",
       "<p>5 rows × 257 columns</p>\n",
       "</div>"
      ],
      "text/plain": [
       "        id                           listing_url       scrape_id last_scraped  \\\n",
       "1   197677   https://www.airbnb.com/rooms/197677  20191230223155   2019-12-31   \n",
       "5   776070   https://www.airbnb.com/rooms/776070  20191230223155   2019-12-31   \n",
       "7   899003   https://www.airbnb.com/rooms/899003  20191230223155   2019-12-31   \n",
       "8   905944   https://www.airbnb.com/rooms/905944  20191230223155   2019-12-31   \n",
       "9  1007534  https://www.airbnb.com/rooms/1007534  20191230223155   2019-12-31   \n",
       "\n",
       "                                       name  \\\n",
       "1                 Oshiage Holiday Apartment   \n",
       "5                    Kero-kero house room 1   \n",
       "7         Classy room @Shinjuku, Takadanoba   \n",
       "8  4F - Near Shinjuku & Shibuya w/Free WiFi   \n",
       "9             Kichijoji Parkside Attic Room   \n",
       "\n",
       "                                         picture_url  host_id  \\\n",
       "1  https://a0.muscache.com/im/pictures/38437056/d...   964081   \n",
       "5  https://a0.muscache.com/im/pictures/efd9f039-d...   801494   \n",
       "7  https://a0.muscache.com/im/pictures/20005274/1...  4799233   \n",
       "8  https://a0.muscache.com/im/pictures/16480116/b...  4847803   \n",
       "9  https://a0.muscache.com/im/pictures/47a84ae5-d...  5068769   \n",
       "\n",
       "                                    host_url                  host_name  \\\n",
       "1   https://www.airbnb.com/users/show/964081            Yoshimi & Marek   \n",
       "5   https://www.airbnb.com/users/show/801494  Kotaro Kei And Litte Miya   \n",
       "7  https://www.airbnb.com/users/show/4799233                         Yu   \n",
       "8  https://www.airbnb.com/users/show/4847803        Best Stay In Tokyo!   \n",
       "9  https://www.airbnb.com/users/show/5068769                   Caroline   \n",
       "\n",
       "   host_since  ...  amenities_Free street parking  amenities_TV  \\\n",
       "1  2011-08-13  ...                              0             1   \n",
       "5  2011-07-10  ...                              0             1   \n",
       "7  2013-01-22  ...                              0             1   \n",
       "8  2013-01-25  ...                              0             1   \n",
       "9  2013-02-13  ...                              0             0   \n",
       "\n",
       "  amenities_Crib amenities_Heating  amenities_Stove  \\\n",
       "1              0                 1                0   \n",
       "5              0                 1                0   \n",
       "7              0                 0                0   \n",
       "8              0                 1                1   \n",
       "9              0                 1                0   \n",
       "\n",
       "   amenities_Indoor fireplace amenities_Convection oven  \\\n",
       "1                           0                         0   \n",
       "5                           0                         0   \n",
       "7                           0                         0   \n",
       "8                           0                         0   \n",
       "9                           0                         0   \n",
       "\n",
       "   amenities_Host greets you  amenities_Suitable for events amenities_Other  \n",
       "1                          0                              0               0  \n",
       "5                          0                              0               1  \n",
       "7                          0                              0               1  \n",
       "8                          0                              0               0  \n",
       "9                          1                              0               0  \n",
       "\n",
       "[5 rows x 257 columns]"
      ]
     },
     "execution_count": 20,
     "metadata": {},
     "output_type": "execute_result"
    }
   ],
   "source": [
    "superhosts_listings_df = superhosts_listings_df.drop(existence_columns, axis=1)\n",
    "superhosts_listings_df.head(5)"
   ]
  },
  {
   "cell_type": "markdown",
   "metadata": {},
   "source": [
    "The following columns were dropped from the `DataFrame`, as these will not be used in clustering: `listing_id`, `id`, `date`, `reviewer_id`, `reviewer_name`, `picture_url`, `host_thumbnail_url`, `host_picture_url`,`id_listings`, `listing_url`, `scrape_id`, `last_scraped`, `name`, `license`, `host_id`, `host_url`, `host_name`, `host_since`, `host_total_listings_count`, `host_total_listings_count`, `host_has_profile_pic`, `neighbourhood_cleansed`, `city`, `zipcode`, `first_review`, `last_review`. All pertain to scrape metadata, URLs, or dates.  The column `host_total_listings_count` will also be dropped, as it has the same values as `host_listings_count`. "
   ]
  },
  {
   "cell_type": "code",
   "execution_count": 21,
   "metadata": {
    "ExecuteTime": {
     "end_time": "2021-08-11T14:30:41.346918Z",
     "start_time": "2021-08-11T14:30:41.292247Z"
    }
   },
   "outputs": [
    {
     "data": {
      "text/html": [
       "<div>\n",
       "<style scoped>\n",
       "    .dataframe tbody tr th:only-of-type {\n",
       "        vertical-align: middle;\n",
       "    }\n",
       "\n",
       "    .dataframe tbody tr th {\n",
       "        vertical-align: top;\n",
       "    }\n",
       "\n",
       "    .dataframe thead th {\n",
       "        text-align: right;\n",
       "    }\n",
       "</style>\n",
       "<table border=\"1\" class=\"dataframe\">\n",
       "  <thead>\n",
       "    <tr style=\"text-align: right;\">\n",
       "      <th></th>\n",
       "      <th>host_response_time</th>\n",
       "      <th>host_response_rate</th>\n",
       "      <th>host_listings_count</th>\n",
       "      <th>host_identity_verified</th>\n",
       "      <th>market</th>\n",
       "      <th>latitude</th>\n",
       "      <th>longitude</th>\n",
       "      <th>is_location_exact</th>\n",
       "      <th>property_type</th>\n",
       "      <th>room_type</th>\n",
       "      <th>...</th>\n",
       "      <th>amenities_Free street parking</th>\n",
       "      <th>amenities_TV</th>\n",
       "      <th>amenities_Crib</th>\n",
       "      <th>amenities_Heating</th>\n",
       "      <th>amenities_Stove</th>\n",
       "      <th>amenities_Indoor fireplace</th>\n",
       "      <th>amenities_Convection oven</th>\n",
       "      <th>amenities_Host greets you</th>\n",
       "      <th>amenities_Suitable for events</th>\n",
       "      <th>amenities_Other</th>\n",
       "    </tr>\n",
       "  </thead>\n",
       "  <tbody>\n",
       "    <tr>\n",
       "      <th>1</th>\n",
       "      <td>2.0</td>\n",
       "      <td>100.0</td>\n",
       "      <td>1.0</td>\n",
       "      <td>1</td>\n",
       "      <td>Tokyo</td>\n",
       "      <td>35.71721</td>\n",
       "      <td>139.82596</td>\n",
       "      <td>1</td>\n",
       "      <td>Apartment</td>\n",
       "      <td>Entire home/apt</td>\n",
       "      <td>...</td>\n",
       "      <td>0</td>\n",
       "      <td>1</td>\n",
       "      <td>0</td>\n",
       "      <td>1</td>\n",
       "      <td>0</td>\n",
       "      <td>0</td>\n",
       "      <td>0</td>\n",
       "      <td>0</td>\n",
       "      <td>0</td>\n",
       "      <td>0</td>\n",
       "    </tr>\n",
       "    <tr>\n",
       "      <th>5</th>\n",
       "      <td>2.0</td>\n",
       "      <td>100.0</td>\n",
       "      <td>1.0</td>\n",
       "      <td>1</td>\n",
       "      <td>Tokyo</td>\n",
       "      <td>35.73818</td>\n",
       "      <td>139.77009</td>\n",
       "      <td>1</td>\n",
       "      <td>House</td>\n",
       "      <td>Private room</td>\n",
       "      <td>...</td>\n",
       "      <td>0</td>\n",
       "      <td>1</td>\n",
       "      <td>0</td>\n",
       "      <td>1</td>\n",
       "      <td>0</td>\n",
       "      <td>0</td>\n",
       "      <td>0</td>\n",
       "      <td>0</td>\n",
       "      <td>0</td>\n",
       "      <td>1</td>\n",
       "    </tr>\n",
       "    <tr>\n",
       "      <th>7</th>\n",
       "      <td>0.0</td>\n",
       "      <td>100.0</td>\n",
       "      <td>2.0</td>\n",
       "      <td>1</td>\n",
       "      <td>Tokyo</td>\n",
       "      <td>35.70865</td>\n",
       "      <td>139.69681</td>\n",
       "      <td>1</td>\n",
       "      <td>Apartment</td>\n",
       "      <td>Entire home/apt</td>\n",
       "      <td>...</td>\n",
       "      <td>0</td>\n",
       "      <td>1</td>\n",
       "      <td>0</td>\n",
       "      <td>0</td>\n",
       "      <td>0</td>\n",
       "      <td>0</td>\n",
       "      <td>0</td>\n",
       "      <td>0</td>\n",
       "      <td>0</td>\n",
       "      <td>1</td>\n",
       "    </tr>\n",
       "  </tbody>\n",
       "</table>\n",
       "<p>3 rows × 234 columns</p>\n",
       "</div>"
      ],
      "text/plain": [
       "   host_response_time  host_response_rate  host_listings_count  \\\n",
       "1                 2.0               100.0                  1.0   \n",
       "5                 2.0               100.0                  1.0   \n",
       "7                 0.0               100.0                  2.0   \n",
       "\n",
       "   host_identity_verified market  latitude  longitude  is_location_exact  \\\n",
       "1                       1  Tokyo  35.71721  139.82596                  1   \n",
       "5                       1  Tokyo  35.73818  139.77009                  1   \n",
       "7                       1  Tokyo  35.70865  139.69681                  1   \n",
       "\n",
       "  property_type        room_type  ...  amenities_Free street parking  \\\n",
       "1     Apartment  Entire home/apt  ...                              0   \n",
       "5         House     Private room  ...                              0   \n",
       "7     Apartment  Entire home/apt  ...                              0   \n",
       "\n",
       "   amenities_TV  amenities_Crib  amenities_Heating amenities_Stove  \\\n",
       "1             1               0                  1               0   \n",
       "5             1               0                  1               0   \n",
       "7             1               0                  0               0   \n",
       "\n",
       "   amenities_Indoor fireplace  amenities_Convection oven  \\\n",
       "1                           0                          0   \n",
       "5                           0                          0   \n",
       "7                           0                          0   \n",
       "\n",
       "   amenities_Host greets you  amenities_Suitable for events  amenities_Other  \n",
       "1                          0                              0                0  \n",
       "5                          0                              0                1  \n",
       "7                          0                              0                1  \n",
       "\n",
       "[3 rows x 234 columns]"
      ]
     },
     "execution_count": 21,
     "metadata": {},
     "output_type": "execute_result"
    }
   ],
   "source": [
    "non_clustering_columns = ['id', 'picture_url', 'host_thumbnail_url', \n",
    "                          'host_picture_url', 'listing_url', 'scrape_id', \n",
    "                          'last_scraped', 'name',\n",
    "                          'host_id', 'host_url', 'host_name', \n",
    "                          'host_since', 'host_total_listings_count', \n",
    "                          'host_total_listings_count', 'host_has_profile_pic', \n",
    "                          'neighbourhood_cleansed', 'city', 'zipcode',\n",
    "                          'first_review', 'last_review', 'host_verifications', \n",
    "                          'amenities', 'calendar_last_scraped', \n",
    "                          'calendar_updated']\n",
    "superhosts_listings_df = superhosts_listings_df.drop(non_clustering_columns, \n",
    "                                                     axis=1)\n",
    "superhosts_listings_df.head(3)"
   ]
  },
  {
   "cell_type": "markdown",
   "metadata": {},
   "source": [
    "The dataset's categorical variables were converted into dummy variables."
   ]
  },
  {
   "cell_type": "code",
   "execution_count": 22,
   "metadata": {
    "ExecuteTime": {
     "end_time": "2021-08-11T14:30:45.199788Z",
     "start_time": "2021-08-11T14:30:45.155768Z"
    }
   },
   "outputs": [],
   "source": [
    "airbnb_df = pd.get_dummies(superhosts_listings_df)"
   ]
  },
  {
   "cell_type": "markdown",
   "metadata": {},
   "source": [
    "After data cleanup, imputation was then performed for missing values.  The variables were sorted into two: columns for median imputation and columns for mode imputation.  Numerical variables were placed under median imputation, while Boolean variables were placed under mode imputation. \n",
    "\n",
    "Median imputation was used for variables pertaining to price instead of filling with 0, as it seems that though there are instances of USD 0 deposit fee or cleaning fee, it may be unlikely. According to [Airbnb](https://www.airbnb.com/help/article/2526/as-a-host-what-should-i-know-about-security-deposits#:~:text=Guests%20will%20be%20shown%20the,for%20Airbnb%2Drequired%20security%20deposits), they have a formula aside from the amount set by the host. This is further expounded below:\n",
    "\n",
    "> Guests will be shown the amount of an Airbnb-required security deposit when they’re booking the reservation. We calculate the security deposit amount according to 60% of a listing’s nightly rate (this amount adjusts for longer stays). There is a USD 1,000 USD limit for Airbnb-required security deposits. \n",
    "If you require a security deposit for your listing and we also determine that one is required for a specific reservation, the amount that you set will be used. If the amount that you set is for USD 0, then the security deposit amount determined by Airbnb will be used. "
   ]
  },
  {
   "cell_type": "code",
   "execution_count": 23,
   "metadata": {
    "ExecuteTime": {
     "end_time": "2021-08-11T14:30:49.081550Z",
     "start_time": "2021-08-11T14:30:49.070607Z"
    },
    "code_folding": [
     0
    ]
   },
   "outputs": [],
   "source": [
    "median_impute_cols = ['host_response_rate', 'host_listings_count', \n",
    "                      'accommodates', 'accommodates', 'bathrooms',\n",
    "       'bedrooms', 'beds', 'square_feet', 'price', 'weekly_price',\n",
    "       'monthly_price', 'security_deposit', 'cleaning_fee',\n",
    "       'guests_included', 'extra_people', 'minimum_nights', \n",
    "       'maximum_nights', 'minimum_minimum_nights',\n",
    "       'maximum_minimum_nights', 'minimum_maximum_nights',\n",
    "       'maximum_maximum_nights', 'minimum_nights_avg_ntm',\n",
    "       'maximum_nights_avg_ntm', 'availability_30', 'availability_60',\n",
    "       'availability_90', 'availability_365', 'number_of_reviews',\n",
    "       'number_of_reviews_ltm', 'review_scores_rating',\n",
    "       'review_scores_accuracy', 'review_scores_cleanliness',\n",
    "       'review_scores_checkin', 'review_scores_communication',\n",
    "       'review_scores_location', 'review_scores_value', \n",
    "       'calculated_host_listings_count',\n",
    "       'calculated_host_listings_count_entire_homes',\n",
    "       'calculated_host_listings_count_private_rooms',\n",
    "       'calculated_host_listings_count_shared_rooms', 'reviews_per_month',]\n",
    "\n",
    "mode_impute_cols = ['host_response_time', 'host_identity_verified', \n",
    "                    'is_location_exact','instant_bookable', \n",
    "                    'cancellation_policy',\n",
    "       'require_guest_profile_picture',\n",
    "       'require_guest_phone_verification'] \\\n",
    "+ list(airbnb_df.columns[airbnb_df.columns.str.contains('contains_')])\\\n",
    "+ list(airbnb_df.columns[airbnb_df.columns.str\\\n",
    "                         .contains('host_verifications_')])\\\n",
    "+ list(airbnb_df.columns[airbnb_df.columns.str.contains('amenities_')]) \\\n",
    "+ list(airbnb_df.columns[airbnb_df.columns.str.contains('market_')]) \\\n",
    "+ list(airbnb_df.columns[airbnb_df.columns.str.contains('property_type_')]) \\\n",
    "+ list(airbnb_df.columns[airbnb_df.columns.str.contains('room_type_')]) \\\n",
    "+ list(airbnb_df.columns[airbnb_df.columns.str.contains('bed_type_')])"
   ]
  },
  {
   "cell_type": "code",
   "execution_count": 24,
   "metadata": {
    "ExecuteTime": {
     "end_time": "2021-08-11T14:30:51.579371Z",
     "start_time": "2021-08-11T14:30:51.344563Z"
    }
   },
   "outputs": [],
   "source": [
    "airbnb_df[median_impute_cols] = pd.DataFrame(SimpleImputer(\\\n",
    "                                           missing_values=np.nan, \n",
    "                                           strategy='median').\\\n",
    "                                         fit_transform(\\\n",
    "                                           airbnb_df[median_impute_cols]), \n",
    "                                         columns=median_impute_cols).values\n",
    "airbnb_df[median_impute_cols] = pd.DataFrame(SimpleImputer(\\\n",
    "                                               missing_values=-1, \n",
    "                                               strategy='median').\\\n",
    "                                             fit_transform(\\\n",
    "                                               airbnb_df[median_impute_cols]), \n",
    "                                             columns=median_impute_cols)\\\n",
    "                                                .values"
   ]
  },
  {
   "cell_type": "code",
   "execution_count": 25,
   "metadata": {
    "ExecuteTime": {
     "end_time": "2021-08-11T14:30:52.925328Z",
     "start_time": "2021-08-11T14:30:52.265413Z"
    }
   },
   "outputs": [],
   "source": [
    "remaining_mode_impute_cols = list(airbnb_df[mode_impute_cols].\\\n",
    "                                  columns[airbnb_df[mode_impute_cols]\\\n",
    "                                          .isna().all(0)==False])\n",
    "\n",
    "airbnb_df[remaining_mode_impute_cols] = pd.DataFrame(\n",
    "    SimpleImputer(missing_values=np.nan, strategy='most_frequent').\\\n",
    "    fit_transform(airbnb_df[mode_impute_cols]), \n",
    "    columns=remaining_mode_impute_cols).values"
   ]
  },
  {
   "cell_type": "markdown",
   "metadata": {},
   "source": [
    "### Resulting dataset "
   ]
  },
  {
   "cell_type": "code",
   "execution_count": 26,
   "metadata": {
    "ExecuteTime": {
     "end_time": "2021-08-11T14:30:55.657671Z",
     "start_time": "2021-08-11T14:30:55.620692Z"
    },
    "variables": {
     "airbnb_df.shape": "(4385, 264)"
    }
   },
   "outputs": [
    {
     "name": "stdout",
     "output_type": "stream",
     "text": [
      "The resulting shape of the `DataFrame` is now at (4385, 263).\n"
     ]
    },
    {
     "data": {
      "text/html": [
       "<div>\n",
       "<style scoped>\n",
       "    .dataframe tbody tr th:only-of-type {\n",
       "        vertical-align: middle;\n",
       "    }\n",
       "\n",
       "    .dataframe tbody tr th {\n",
       "        vertical-align: top;\n",
       "    }\n",
       "\n",
       "    .dataframe thead th {\n",
       "        text-align: right;\n",
       "    }\n",
       "</style>\n",
       "<table border=\"1\" class=\"dataframe\">\n",
       "  <thead>\n",
       "    <tr style=\"text-align: right;\">\n",
       "      <th></th>\n",
       "      <th>host_response_time</th>\n",
       "      <th>host_response_rate</th>\n",
       "      <th>host_listings_count</th>\n",
       "      <th>host_identity_verified</th>\n",
       "      <th>latitude</th>\n",
       "      <th>longitude</th>\n",
       "      <th>is_location_exact</th>\n",
       "      <th>accommodates</th>\n",
       "      <th>bathrooms</th>\n",
       "      <th>bedrooms</th>\n",
       "      <th>...</th>\n",
       "      <th>property_type_Villa</th>\n",
       "      <th>room_type_Entire home/apt</th>\n",
       "      <th>room_type_Hotel room</th>\n",
       "      <th>room_type_Private room</th>\n",
       "      <th>room_type_Shared room</th>\n",
       "      <th>bed_type_Airbed</th>\n",
       "      <th>bed_type_Couch</th>\n",
       "      <th>bed_type_Futon</th>\n",
       "      <th>bed_type_Pull-out Sofa</th>\n",
       "      <th>bed_type_Real Bed</th>\n",
       "    </tr>\n",
       "  </thead>\n",
       "  <tbody>\n",
       "    <tr>\n",
       "      <th>1</th>\n",
       "      <td>2.0</td>\n",
       "      <td>100.0</td>\n",
       "      <td>1.0</td>\n",
       "      <td>1.0</td>\n",
       "      <td>35.71721</td>\n",
       "      <td>139.82596</td>\n",
       "      <td>1.0</td>\n",
       "      <td>4.0</td>\n",
       "      <td>1.0</td>\n",
       "      <td>1.0</td>\n",
       "      <td>...</td>\n",
       "      <td>0.0</td>\n",
       "      <td>1.0</td>\n",
       "      <td>0.0</td>\n",
       "      <td>0.0</td>\n",
       "      <td>0.0</td>\n",
       "      <td>0.0</td>\n",
       "      <td>0.0</td>\n",
       "      <td>1.0</td>\n",
       "      <td>0.0</td>\n",
       "      <td>0.0</td>\n",
       "    </tr>\n",
       "    <tr>\n",
       "      <th>5</th>\n",
       "      <td>2.0</td>\n",
       "      <td>100.0</td>\n",
       "      <td>1.0</td>\n",
       "      <td>1.0</td>\n",
       "      <td>35.73818</td>\n",
       "      <td>139.77009</td>\n",
       "      <td>1.0</td>\n",
       "      <td>2.0</td>\n",
       "      <td>1.0</td>\n",
       "      <td>1.0</td>\n",
       "      <td>...</td>\n",
       "      <td>0.0</td>\n",
       "      <td>0.0</td>\n",
       "      <td>0.0</td>\n",
       "      <td>1.0</td>\n",
       "      <td>0.0</td>\n",
       "      <td>0.0</td>\n",
       "      <td>0.0</td>\n",
       "      <td>0.0</td>\n",
       "      <td>0.0</td>\n",
       "      <td>1.0</td>\n",
       "    </tr>\n",
       "  </tbody>\n",
       "</table>\n",
       "<p>2 rows × 263 columns</p>\n",
       "</div>"
      ],
      "text/plain": [
       "   host_response_time  host_response_rate  host_listings_count  \\\n",
       "1                 2.0               100.0                  1.0   \n",
       "5                 2.0               100.0                  1.0   \n",
       "\n",
       "   host_identity_verified  latitude  longitude  is_location_exact  \\\n",
       "1                     1.0  35.71721  139.82596                1.0   \n",
       "5                     1.0  35.73818  139.77009                1.0   \n",
       "\n",
       "   accommodates  bathrooms  bedrooms  ...  property_type_Villa  \\\n",
       "1           4.0        1.0       1.0  ...                  0.0   \n",
       "5           2.0        1.0       1.0  ...                  0.0   \n",
       "\n",
       "   room_type_Entire home/apt  room_type_Hotel room  room_type_Private room  \\\n",
       "1                        1.0                   0.0                     0.0   \n",
       "5                        0.0                   0.0                     1.0   \n",
       "\n",
       "   room_type_Shared room  bed_type_Airbed  bed_type_Couch  bed_type_Futon  \\\n",
       "1                    0.0              0.0             0.0             1.0   \n",
       "5                    0.0              0.0             0.0             0.0   \n",
       "\n",
       "   bed_type_Pull-out Sofa  bed_type_Real Bed  \n",
       "1                     0.0                0.0  \n",
       "5                     0.0                1.0  \n",
       "\n",
       "[2 rows x 263 columns]"
      ]
     },
     "execution_count": 26,
     "metadata": {},
     "output_type": "execute_result"
    }
   ],
   "source": [
    "print(\"The resulting shape of the `DataFrame` is now at {}.\".format(airbnb_df.shape))\n",
    "airbnb_df.head(2)"
   ]
  },
  {
   "cell_type": "markdown",
   "metadata": {},
   "source": [
    "## Methodology "
   ]
  },
  {
   "cell_type": "markdown",
   "metadata": {},
   "source": [
    "To understand different types of Airbnb superhosts, the researchers decided to group the listings into clusters of similar attributes. The following pipeline was done:: \n",
    "\n",
    "1. There were 3 scaling methods that were tried in the data, namely StandardScaler, MinMaxScaler and RobustScaler. **MinMaxScaler** provided the best end output. \n",
    "2. After using the appropriate scaling method, the researchers used sklearn’s **PCA** (Principal Component Analysis) to reduce the dimensions for better interpretability, less complexity, and easier visualization. \n",
    "3. Having the feature set’s dimension reduced, sklearn’s KMeans and pyclustering’s KMedians were performed and validated using different number of clusters **inertias** (within-cluster sum of squared errors) and **Calinski Harabasz scores (CH)** (ratio between the within-cluster dispersion and the between-cluster dispersion) \n",
    "4. Based on the graph, initially 4 k-means cluster was chosen to cluster the data. However, choosing 3 k-medians cluster provided better insights. The cluster prediction was assigned back to the dataset and exploratory data analysis was done. "
   ]
  },
  {
   "cell_type": "code",
   "execution_count": 27,
   "metadata": {
    "ExecuteTime": {
     "end_time": "2021-08-11T14:31:02.589250Z",
     "start_time": "2021-08-11T14:31:00.126784Z"
    }
   },
   "outputs": [],
   "source": [
    "pca = PCA(n_components=2, random_state=42)\n",
    "airbnb_pca_df = pca.fit_transform(MinMaxScaler().fit_transform(airbnb_df))"
   ]
  },
  {
   "cell_type": "code",
   "execution_count": 28,
   "metadata": {
    "ExecuteTime": {
     "end_time": "2021-08-11T14:31:03.797843Z",
     "start_time": "2021-08-11T14:31:03.422753Z"
    }
   },
   "outputs": [
    {
     "data": {
      "image/png": "[encoded data removed]",
      "text/plain": [
       "<Figure size 432x288 with 1 Axes>"
      ]
     },
     "metadata": {
      "needs_background": "light"
     },
     "output_type": "display_data"
    }
   ],
   "source": [
    "plt.scatter(airbnb_pca_df[:,0], airbnb_pca_df[:,1])\n",
    "plt.xlabel('PC1')\n",
    "plt.ylabel('PC2');"
   ]
  },
  {
   "cell_type": "code",
   "execution_count": 29,
   "metadata": {
    "ExecuteTime": {
     "end_time": "2021-08-11T14:31:13.017438Z",
     "start_time": "2021-08-11T14:31:08.511719Z"
    }
   },
   "outputs": [
    {
     "data": {
      "application/vnd.jupyter.widget-view+json": {
       "model_id": "91ebbaebc3ca412ead13cf7609fe5b64",
       "version_major": 2,
       "version_minor": 0
      },
      "text/plain": [
       "  0%|          | 0/8 [00:00<?, ?it/s]"
      ]
     },
     "metadata": {},
     "output_type": "display_data"
    }
   ],
   "source": [
    "sss = []\n",
    "chs = []\n",
    "gss = []\n",
    "sss_medians = []\n",
    "chs_medians = []\n",
    "gss_medians = []\n",
    "\n",
    "for i in tqdm(range(2,10)):\n",
    "    km = KMeans(n_clusters=i, random_state=0).fit(airbnb_pca_df)\n",
    "    cluster_kmeans = km.predict(airbnb_pca_df)\n",
    "\n",
    "    sss.append(km.inertia_)\n",
    "    chs.append(calinski_harabasz_score(airbnb_pca_df, cluster_kmeans))\n",
    "    \n",
    "    initial_medians = airbnb_pca_df[:i]\n",
    "    kmedians_instance_tmp = kmedians(airbnb_pca_df, initial_medians)\n",
    "\n",
    "    kmedians_instance_tmp.process()\n",
    "    cluster_kmedians = kmedians_instance_tmp.predict(airbnb_pca_df)\n",
    "\n",
    "    sss_medians.append(kmedians_instance_tmp.get_total_wce())\n",
    "    chs_medians.append(calinski_harabasz_score(airbnb_pca_df, cluster_kmedians))"
   ]
  },
  {
   "cell_type": "code",
   "execution_count": 37,
   "metadata": {
    "ExecuteTime": {
     "end_time": "2021-08-11T14:31:21.144216Z",
     "start_time": "2021-08-11T14:31:20.876820Z"
    }
   },
   "outputs": [
    {
     "data": {
      "image/png": "[encoded data removed]",
      "text/plain": [
       "<Figure size 432x288 with 1 Axes>"
      ]
     },
     "metadata": {
      "needs_background": "light"
     },
     "output_type": "display_data"
    }
   ],
   "source": [
    "fig, ax = plt.subplots()\n",
    "ks = np.arange(2, 10)\n",
    "ax.plot(ks, sss, '-yo', label='SSE kmeans')\n",
    "ax.plot(ks, chs, '-ro', label='CH kmeans')\n",
    "ax.plot(ks, sss_medians, '-go', label='SSE kmedians')\n",
    "ax.plot(ks, chs_medians, '-bo', label='CH kmedians')\n",
    "\n",
    "ax.legend();"
   ]
  },
  {
   "cell_type": "code",
   "execution_count": 38,
   "metadata": {
    "ExecuteTime": {
     "end_time": "2021-08-11T14:31:29.100173Z",
     "start_time": "2021-08-11T14:31:28.591211Z"
    }
   },
   "outputs": [],
   "source": [
    "kmeans_instance = KMeans(n_clusters=4, random_state=0).fit(airbnb_pca_df)\n",
    "kmeans_predictions = kmeans_instance.predict(airbnb_pca_df)\n",
    "\n",
    "initial_medians = airbnb_pca_df[:3]\n",
    "kmedians_instance = kmedians(airbnb_pca_df, initial_medians)\n",
    "\n",
    "kmedians_instance.process()\n",
    "kmedian_predictions = kmedians_instance.predict(airbnb_pca_df)"
   ]
  },
  {
   "cell_type": "code",
   "execution_count": 39,
   "metadata": {
    "ExecuteTime": {
     "end_time": "2021-08-11T14:31:32.986670Z",
     "start_time": "2021-08-11T14:31:32.981765Z"
    }
   },
   "outputs": [],
   "source": [
    "airbnb_df['kmeans_cluster'] = kmeans_predictions\n",
    "airbnb_df['kmedians_cluster'] = kmedian_predictions"
   ]
  },
  {
   "cell_type": "markdown",
   "metadata": {},
   "source": [
    "## Results and Discussion "
   ]
  },
  {
   "cell_type": "markdown",
   "metadata": {},
   "source": [
    "For consistency of findings, data preprocessing and outlined methodology was conducted on the following DataFrame.   This will be used in the followin results and discission."
   ]
  },
  {
   "cell_type": "code",
   "execution_count": 40,
   "metadata": {
    "ExecuteTime": {
     "end_time": "2021-08-11T14:31:51.549652Z",
     "start_time": "2021-08-11T14:31:51.261427Z"
    }
   },
   "outputs": [],
   "source": [
    "airbnb_df = pd.read_csv('superhosts_cluster_minmax_imputed.csv.gz',\n",
    "                      compression='gzip')"
   ]
  },
  {
   "cell_type": "markdown",
   "metadata": {},
   "source": [
    "### Insight #1: Majority of listings available in Tokyo are apartments, but each cluster contained a unique mix of property types. \n",
    "\n",
    "To gain a basic understanding of the listings available in Tokyo, the researchers first sought to understand what property type is representative of each cluster.  Majority of the Tokyo listings for each cluster are classified as apartments, with 51-54% of Clusters 0 and 1 composed of apartments.  Notably, 81% of Cluster 2 is comprised of apartments.  However, the researchers also found interesting insights based on other property types.  Table 1 details the proportion of property types found in each cluster. "
   ]
  },
  {
   "cell_type": "code",
   "execution_count": 41,
   "metadata": {
    "ExecuteTime": {
     "end_time": "2021-08-11T14:32:13.350343Z",
     "start_time": "2021-08-11T14:32:13.318598Z"
    }
   },
   "outputs": [
    {
     "name": "stdout",
     "output_type": "stream",
     "text": [
      "Table 1. Proportion of listings for each property in a cluster.\n"
     ]
    },
    {
     "data": {
      "text/html": [
       "<div>\n",
       "<style scoped>\n",
       "    .dataframe tbody tr th:only-of-type {\n",
       "        vertical-align: middle;\n",
       "    }\n",
       "\n",
       "    .dataframe tbody tr th {\n",
       "        vertical-align: top;\n",
       "    }\n",
       "\n",
       "    .dataframe thead th {\n",
       "        text-align: right;\n",
       "    }\n",
       "</style>\n",
       "<table border=\"1\" class=\"dataframe\">\n",
       "  <thead>\n",
       "    <tr style=\"text-align: right;\">\n",
       "      <th></th>\n",
       "      <th>property_type_Aparthotel</th>\n",
       "      <th>property_type_Apartment</th>\n",
       "      <th>property_type_Bed and breakfast</th>\n",
       "      <th>property_type_Boutique hotel</th>\n",
       "      <th>property_type_Condominium</th>\n",
       "      <th>property_type_Hostel</th>\n",
       "      <th>property_type_House</th>\n",
       "      <th>property_type_Ryokan (Japan)</th>\n",
       "    </tr>\n",
       "    <tr>\n",
       "      <th>kmedians_cluster</th>\n",
       "      <th></th>\n",
       "      <th></th>\n",
       "      <th></th>\n",
       "      <th></th>\n",
       "      <th></th>\n",
       "      <th></th>\n",
       "      <th></th>\n",
       "      <th></th>\n",
       "    </tr>\n",
       "  </thead>\n",
       "  <tbody>\n",
       "    <tr>\n",
       "      <th>0</th>\n",
       "      <td>0.025890</td>\n",
       "      <td>0.513269</td>\n",
       "      <td>0.012945</td>\n",
       "      <td>0.012945</td>\n",
       "      <td>0.029126</td>\n",
       "      <td>0.152751</td>\n",
       "      <td>0.155340</td>\n",
       "      <td>0.012945</td>\n",
       "    </tr>\n",
       "    <tr>\n",
       "      <th>1</th>\n",
       "      <td>0.016949</td>\n",
       "      <td>0.543341</td>\n",
       "      <td>0.000484</td>\n",
       "      <td>0.005327</td>\n",
       "      <td>0.047942</td>\n",
       "      <td>0.023245</td>\n",
       "      <td>0.276998</td>\n",
       "      <td>0.021792</td>\n",
       "    </tr>\n",
       "    <tr>\n",
       "      <th>2</th>\n",
       "      <td>0.009032</td>\n",
       "      <td>0.810323</td>\n",
       "      <td>0.000000</td>\n",
       "      <td>0.002581</td>\n",
       "      <td>0.058065</td>\n",
       "      <td>0.000000</td>\n",
       "      <td>0.077419</td>\n",
       "      <td>0.000000</td>\n",
       "    </tr>\n",
       "  </tbody>\n",
       "</table>\n",
       "</div>"
      ],
      "text/plain": [
       "                  property_type_Aparthotel  property_type_Apartment  \\\n",
       "kmedians_cluster                                                      \n",
       "0                                 0.025890                 0.513269   \n",
       "1                                 0.016949                 0.543341   \n",
       "2                                 0.009032                 0.810323   \n",
       "\n",
       "                  property_type_Bed and breakfast  \\\n",
       "kmedians_cluster                                    \n",
       "0                                        0.012945   \n",
       "1                                        0.000484   \n",
       "2                                        0.000000   \n",
       "\n",
       "                  property_type_Boutique hotel  property_type_Condominium  \\\n",
       "kmedians_cluster                                                            \n",
       "0                                     0.012945                   0.029126   \n",
       "1                                     0.005327                   0.047942   \n",
       "2                                     0.002581                   0.058065   \n",
       "\n",
       "                  property_type_Hostel  property_type_House  \\\n",
       "kmedians_cluster                                              \n",
       "0                             0.152751             0.155340   \n",
       "1                             0.023245             0.276998   \n",
       "2                             0.000000             0.077419   \n",
       "\n",
       "                  property_type_Ryokan (Japan)  \n",
       "kmedians_cluster                                \n",
       "0                                     0.012945  \n",
       "1                                     0.021792  \n",
       "2                                     0.000000  "
      ]
     },
     "metadata": {},
     "output_type": "display_data"
    }
   ],
   "source": [
    "prop_type_short = ['property_type_Aparthotel', 'property_type_Apartment',\n",
    "\n",
    "          'property_type_Bed and breakfast', 'property_type_Boutique hotel',\n",
    "\n",
    "          'property_type_Condominium', 'property_type_Hostel',\n",
    "\n",
    "          'property_type_House', 'property_type_Ryokan (Japan)']\n",
    "print(\"Table 1. Proportion of listings for each property in a cluster.\")\n",
    "display(pd.DataFrame(airbnb_df.groupby(by='kmedians_cluster')\\\n",
    "                     [prop_type_short].mean()))"
   ]
  },
  {
   "cell_type": "markdown",
   "metadata": {},
   "source": [
    "**Cluster 0**: With half of Cluster 0 being apartments, two other major property types found here are hostels (15%) and houses (15%). Other property types found here are aparthotels (3%), condominiums (3%), boutique hotels (1%), and ryokan (1%). \n",
    "\n",
    "**Cluster 1**: Twenty eight percent (28%) of Cluster 1 listings are composed of houses, much larger spaces compared to apartments.  Other property types found here, albeit at small numbers, are condominiums (5%) and hostels (2%). \n",
    "\n",
    "**Cluster 2**: Aside from apartments (81%), also found here are houses (8%) and condominiums (5%). Interestingly, no bed and breakfasts, hostels, and Ryokans were placed in this cluster. A (ryokan (旅館))[https://www.japan-guide.com/e/e2029.html] is a type of traditional Japanese inn that typically feature tatami-matted rooms, communal baths, futon beds, and other public areas where visitors may wear yukata and talk with the owner. "
   ]
  },
  {
   "cell_type": "markdown",
   "metadata": {},
   "source": [
    "### Insight #2: Price tiering was found in clustering. \n",
    "\n",
    "With the aforementioned representative property types, then researchers then investigate on possible price tiering.  Table 2 shows the mean price features per cluster. "
   ]
  },
  {
   "cell_type": "code",
   "execution_count": 42,
   "metadata": {
    "ExecuteTime": {
     "end_time": "2021-08-11T14:32:16.208943Z",
     "start_time": "2021-08-11T14:32:16.189398Z"
    }
   },
   "outputs": [
    {
     "name": "stdout",
     "output_type": "stream",
     "text": [
      "Table 2. Median price features per cluster.\n"
     ]
    },
    {
     "data": {
      "text/html": [
       "<div>\n",
       "<style scoped>\n",
       "    .dataframe tbody tr th:only-of-type {\n",
       "        vertical-align: middle;\n",
       "    }\n",
       "\n",
       "    .dataframe tbody tr th {\n",
       "        vertical-align: top;\n",
       "    }\n",
       "\n",
       "    .dataframe thead th {\n",
       "        text-align: right;\n",
       "    }\n",
       "</style>\n",
       "<table border=\"1\" class=\"dataframe\">\n",
       "  <thead>\n",
       "    <tr style=\"text-align: right;\">\n",
       "      <th></th>\n",
       "      <th>Price</th>\n",
       "      <th>Security deposit</th>\n",
       "      <th>Cleaning fee</th>\n",
       "      <th>Price per extra person</th>\n",
       "      <th>Allowable number of guests</th>\n",
       "    </tr>\n",
       "    <tr>\n",
       "      <th>kmedians_cluster</th>\n",
       "      <th></th>\n",
       "      <th></th>\n",
       "      <th></th>\n",
       "      <th></th>\n",
       "      <th></th>\n",
       "    </tr>\n",
       "  </thead>\n",
       "  <tbody>\n",
       "    <tr>\n",
       "      <th>0</th>\n",
       "      <td>26,076.53</td>\n",
       "      <td>9,472.28</td>\n",
       "      <td>4,404.39</td>\n",
       "      <td>1,444.76</td>\n",
       "      <td>3.74</td>\n",
       "    </tr>\n",
       "    <tr>\n",
       "      <th>1</th>\n",
       "      <td>19,470.35</td>\n",
       "      <td>17,641.03</td>\n",
       "      <td>6,662.35</td>\n",
       "      <td>2,017.72</td>\n",
       "      <td>5.02</td>\n",
       "    </tr>\n",
       "    <tr>\n",
       "      <th>2</th>\n",
       "      <td>17,139.04</td>\n",
       "      <td>10,030.17</td>\n",
       "      <td>7,240.57</td>\n",
       "      <td>1,485.85</td>\n",
       "      <td>4.43</td>\n",
       "    </tr>\n",
       "  </tbody>\n",
       "</table>\n",
       "</div>"
      ],
      "text/plain": [
       "                      Price Security deposit Cleaning fee  \\\n",
       "kmedians_cluster                                            \n",
       "0                 26,076.53         9,472.28     4,404.39   \n",
       "1                 19,470.35        17,641.03     6,662.35   \n",
       "2                 17,139.04        10,030.17     7,240.57   \n",
       "\n",
       "                 Price per extra person Allowable number of guests  \n",
       "kmedians_cluster                                                    \n",
       "0                              1,444.76                       3.74  \n",
       "1                              2,017.72                       5.02  \n",
       "2                              1,485.85                       4.43  "
      ]
     },
     "execution_count": 42,
     "metadata": {},
     "output_type": "execute_result"
    }
   ],
   "source": [
    "related_to_price = ['price', 'security_deposit', 'cleaning_fee', \n",
    "                    'extra_people', 'accommodates']\n",
    "\n",
    "print(\"Table 2. Median price features per cluster.\")\n",
    "\n",
    "pd.DataFrame(airbnb_df.groupby(by=['kmedians_cluster'])[related_to_price].\\\n",
    "       mean()).rename(columns={'price':'Price', \n",
    "                   'security_deposit':'Security deposit', \n",
    "                   'cleaning_fee':'Cleaning fee',\n",
    "                   'extra_people':'Price per extra person',\n",
    "                   'accommodates': 'Allowable number of guests'})\\\n",
    "        .applymap(lambda x: f'{x:,.2f}')"
   ]
  },
  {
   "cell_type": "markdown",
   "metadata": {},
   "source": [
    "Across the clusters, it is apparent that a specific price tier exists here.  For the Airbnb dataset, this refers to the nightly price.  Security deposit and cleaning fee are an add-on to the total amount, and both adjust according to the length of stay.  Price per extra person refers to the cost of an additional guest exceeding the allowable number of guests.  \n",
    "\n",
    "**Cluster 0**: Cluster 0 has the highest mean price at ¥ 26,076, but has the lowest security deposit, cleaning fee, and price per extra person.  However, it also houses the smallest number of allowable guests at 3.43, which proves that listings found here are not as cost efficient. \n",
    "\n",
    "**Cluster 1**: Cluster 1 has the highest allowable number of guests at 5.02 people, which point that these listings are perhaps targeted for families.  It also has the highest security deposit and price per extra person.  These listings can also be considered cost efficient, as it is cheaper than Cluster 0 listings at an average of ¥ 6,606. \n",
    "\n",
    "**Cluster 2**: Cluster 2 listings have the lowest mean price yet highest mean cleaning fee.  Cluster 2 listings are also targeted for average-sized groups of travelers at 4.4. "
   ]
  },
  {
   "cell_type": "markdown",
   "metadata": {},
   "source": [
    "### Insight #3: Guests agree that Cluster 0 listings are to be avoided. \n",
    "\n",
    "Table 3 shows the mean rating per cluster as well as the mean number of reviews per month. "
   ]
  },
  {
   "cell_type": "code",
   "execution_count": 43,
   "metadata": {
    "ExecuteTime": {
     "end_time": "2021-08-11T14:32:19.713684Z",
     "start_time": "2021-08-11T14:32:19.691627Z"
    }
   },
   "outputs": [
    {
     "name": "stdout",
     "output_type": "stream",
     "text": [
      "Table 3. Mean rating features per cluster.\n"
     ]
    },
    {
     "data": {
      "text/html": [
       "<div>\n",
       "<style scoped>\n",
       "    .dataframe tbody tr th:only-of-type {\n",
       "        vertical-align: middle;\n",
       "    }\n",
       "\n",
       "    .dataframe tbody tr th {\n",
       "        vertical-align: top;\n",
       "    }\n",
       "\n",
       "    .dataframe thead th {\n",
       "        text-align: right;\n",
       "    }\n",
       "</style>\n",
       "<table border=\"1\" class=\"dataframe\">\n",
       "  <thead>\n",
       "    <tr style=\"text-align: right;\">\n",
       "      <th></th>\n",
       "      <th>Overall rating</th>\n",
       "      <th>Rating on cleanliness</th>\n",
       "      <th>Rating on accuracy</th>\n",
       "      <th>Rating on check-in</th>\n",
       "      <th>Rating on communication</th>\n",
       "      <th>Rating on location</th>\n",
       "      <th>Rating on value</th>\n",
       "      <th>Reviews per month</th>\n",
       "    </tr>\n",
       "    <tr>\n",
       "      <th>kmedians_cluster</th>\n",
       "      <th></th>\n",
       "      <th></th>\n",
       "      <th></th>\n",
       "      <th></th>\n",
       "      <th></th>\n",
       "      <th></th>\n",
       "      <th></th>\n",
       "      <th></th>\n",
       "    </tr>\n",
       "  </thead>\n",
       "  <tbody>\n",
       "    <tr>\n",
       "      <th>0</th>\n",
       "      <td>95.894498</td>\n",
       "      <td>9.785113</td>\n",
       "      <td>9.838835</td>\n",
       "      <td>9.873139</td>\n",
       "      <td>9.880906</td>\n",
       "      <td>9.651133</td>\n",
       "      <td>9.453722</td>\n",
       "      <td>1.946104</td>\n",
       "    </tr>\n",
       "    <tr>\n",
       "      <th>1</th>\n",
       "      <td>96.892010</td>\n",
       "      <td>9.818886</td>\n",
       "      <td>9.897337</td>\n",
       "      <td>9.910412</td>\n",
       "      <td>9.924455</td>\n",
       "      <td>9.636804</td>\n",
       "      <td>9.557385</td>\n",
       "      <td>2.427840</td>\n",
       "    </tr>\n",
       "    <tr>\n",
       "      <th>2</th>\n",
       "      <td>96.141935</td>\n",
       "      <td>9.811613</td>\n",
       "      <td>9.889032</td>\n",
       "      <td>9.921290</td>\n",
       "      <td>9.900645</td>\n",
       "      <td>9.539355</td>\n",
       "      <td>9.501935</td>\n",
       "      <td>2.455819</td>\n",
       "    </tr>\n",
       "  </tbody>\n",
       "</table>\n",
       "</div>"
      ],
      "text/plain": [
       "                  Overall rating  Rating on cleanliness  Rating on accuracy  \\\n",
       "kmedians_cluster                                                              \n",
       "0                      95.894498               9.785113            9.838835   \n",
       "1                      96.892010               9.818886            9.897337   \n",
       "2                      96.141935               9.811613            9.889032   \n",
       "\n",
       "                  Rating on check-in  Rating on communication  \\\n",
       "kmedians_cluster                                                \n",
       "0                           9.873139                 9.880906   \n",
       "1                           9.910412                 9.924455   \n",
       "2                           9.921290                 9.900645   \n",
       "\n",
       "                  Rating on location  Rating on value  Reviews per month  \n",
       "kmedians_cluster                                                          \n",
       "0                           9.651133         9.453722           1.946104  \n",
       "1                           9.636804         9.557385           2.427840  \n",
       "2                           9.539355         9.501935           2.455819  "
      ]
     },
     "execution_count": 43,
     "metadata": {},
     "output_type": "execute_result"
    }
   ],
   "source": [
    "related_to_reviews = ['review_scores_rating',\n",
    "                   'review_scores_cleanliness',\n",
    "                   'review_scores_accuracy',\n",
    "                   'review_scores_checkin',\n",
    "                   'review_scores_communication',\n",
    "                   'review_scores_location',\n",
    "                   'review_scores_value',\n",
    "                   'reviews_per_month']\n",
    "\n",
    "print(\"Table 3. Mean rating features per cluster.\")\n",
    "\n",
    "pd.DataFrame(airbnb_df.groupby(by=['kmedians_cluster'])\\\n",
    "             [related_to_reviews].mean()).rename(columns={\n",
    "                   'review_scores_rating':'Overall rating',\n",
    "                   'review_scores_cleanliness': 'Rating on cleanliness',\n",
    "                   'review_scores_accuracy':'Rating on accuracy',\n",
    "                   'review_scores_checkin':'Rating on check-in',\n",
    "                   'review_scores_communication': 'Rating on communication',\n",
    "                   'review_scores_location':'Rating on location',\n",
    "                   'review_scores_value':'Rating on value',\n",
    "                   'reviews_per_month':'Reviews per month'})"
   ]
  },
  {
   "cell_type": "markdown",
   "metadata": {},
   "source": [
    "As expected from superhost listings, features related to ratings will always be high.  However, there are still distinct features to be highlighted for each cluster. \n",
    "\n",
    "**Cluster 0**:  Cluster 0 has the lowest mean overall rating at 95.89. It also ranks the lowest on all aspects, except for location.  Because of its fairly low ratings, it is not booked as frequently compared to other clusters with only 1.94 reviews per month.  It seems that there is a consensus among the guests in Cluster 0 listings that staying in these listings will not guarantee the best time. \n",
    "\n",
    "**Cluster 1**: Cluster 1 listings have the highest mean overall rating at 96.89.  It also ranks the highest in terms of accuracy, cleanliness, communication, and value.   Both Cluster 1 and 2 receive high number of reviews per month. \n",
    "\n",
    "**Cluster 2**: Cluster 2 listings perform fairly well across the specific rating categories, but it is notable that it has the highest score for check-in (9.92) and the lowest in location (9.54).  It has the highest average of reviews per month at 2.45 reviews. "
   ]
  },
  {
   "cell_type": "markdown",
   "metadata": {},
   "source": [
    "### Insight #4: Amenities-related \n",
    "\n",
    "Table 4 shows the proportion of listings within a cluster that possess a certain amenity. "
   ]
  },
  {
   "cell_type": "code",
   "execution_count": 44,
   "metadata": {
    "ExecuteTime": {
     "end_time": "2021-08-11T14:32:22.368485Z",
     "start_time": "2021-08-11T14:32:22.284596Z"
    }
   },
   "outputs": [
    {
     "name": "stdout",
     "output_type": "stream",
     "text": [
      "Table 4. Proportion of listings within a cluster that possess basic amenities.\n"
     ]
    },
    {
     "data": {
      "text/html": [
       "<div>\n",
       "<style scoped>\n",
       "    .dataframe tbody tr th:only-of-type {\n",
       "        vertical-align: middle;\n",
       "    }\n",
       "\n",
       "    .dataframe tbody tr th {\n",
       "        vertical-align: top;\n",
       "    }\n",
       "\n",
       "    .dataframe thead th {\n",
       "        text-align: right;\n",
       "    }\n",
       "</style>\n",
       "<table border=\"1\" class=\"dataframe\">\n",
       "  <thead>\n",
       "    <tr style=\"text-align: right;\">\n",
       "      <th></th>\n",
       "      <th>amenities_Microwave</th>\n",
       "      <th>amenities_Washer</th>\n",
       "      <th>amenities_Hot water kettle</th>\n",
       "      <th>amenities_Kitchen</th>\n",
       "      <th>amenities_Cooking basics</th>\n",
       "      <th>amenities_Refrigerator</th>\n",
       "      <th>amenities_Dishes and silverware</th>\n",
       "      <th>amenities_Extra pillows and blankets</th>\n",
       "      <th>amenities_Oven</th>\n",
       "      <th>amenities_TV</th>\n",
       "      <th>amenities_No stairs or steps to enter</th>\n",
       "      <th>amenities_Family/kid friendly</th>\n",
       "    </tr>\n",
       "  </thead>\n",
       "  <tbody>\n",
       "    <tr>\n",
       "      <th>0</th>\n",
       "      <td>0.360518</td>\n",
       "      <td>0.822654</td>\n",
       "      <td>0.001294</td>\n",
       "      <td>0.688026</td>\n",
       "      <td>0.111974</td>\n",
       "      <td>0.421359</td>\n",
       "      <td>0.269256</td>\n",
       "      <td>0.048544</td>\n",
       "      <td>0.018123</td>\n",
       "      <td>0.617476</td>\n",
       "      <td>0.012298</td>\n",
       "      <td>0.169579</td>\n",
       "    </tr>\n",
       "    <tr>\n",
       "      <th>1</th>\n",
       "      <td>0.979661</td>\n",
       "      <td>0.939467</td>\n",
       "      <td>0.001453</td>\n",
       "      <td>0.958838</td>\n",
       "      <td>0.746731</td>\n",
       "      <td>0.993705</td>\n",
       "      <td>0.952058</td>\n",
       "      <td>0.399031</td>\n",
       "      <td>0.267797</td>\n",
       "      <td>0.848426</td>\n",
       "      <td>0.177724</td>\n",
       "      <td>0.361743</td>\n",
       "    </tr>\n",
       "    <tr>\n",
       "      <th>2</th>\n",
       "      <td>0.798710</td>\n",
       "      <td>0.918710</td>\n",
       "      <td>0.003871</td>\n",
       "      <td>0.778065</td>\n",
       "      <td>0.415484</td>\n",
       "      <td>0.843871</td>\n",
       "      <td>0.785806</td>\n",
       "      <td>0.096774</td>\n",
       "      <td>0.087742</td>\n",
       "      <td>0.787097</td>\n",
       "      <td>0.064516</td>\n",
       "      <td>0.171613</td>\n",
       "    </tr>\n",
       "  </tbody>\n",
       "</table>\n",
       "</div>"
      ],
      "text/plain": [
       "   amenities_Microwave  amenities_Washer  amenities_Hot water kettle  \\\n",
       "0             0.360518          0.822654                    0.001294   \n",
       "1             0.979661          0.939467                    0.001453   \n",
       "2             0.798710          0.918710                    0.003871   \n",
       "\n",
       "   amenities_Kitchen  amenities_Cooking basics  amenities_Refrigerator  \\\n",
       "0           0.688026                  0.111974                0.421359   \n",
       "1           0.958838                  0.746731                0.993705   \n",
       "2           0.778065                  0.415484                0.843871   \n",
       "\n",
       "   amenities_Dishes and silverware  amenities_Extra pillows and blankets  \\\n",
       "0                         0.269256                              0.048544   \n",
       "1                         0.952058                              0.399031   \n",
       "2                         0.785806                              0.096774   \n",
       "\n",
       "   amenities_Oven  amenities_TV  amenities_No stairs or steps to enter  \\\n",
       "0        0.018123      0.617476                               0.012298   \n",
       "1        0.267797      0.848426                               0.177724   \n",
       "2        0.087742      0.787097                               0.064516   \n",
       "\n",
       "   amenities_Family/kid friendly  \n",
       "0                       0.169579  \n",
       "1                       0.361743  \n",
       "2                       0.171613  "
      ]
     },
     "execution_count": 44,
     "metadata": {},
     "output_type": "execute_result"
    }
   ],
   "source": [
    "family_cols = ['amenities_Microwave', 'amenities_Washer', \n",
    "               'amenities_Hot water kettle', 'amenities_Kitchen', \n",
    "               'amenities_Cooking basics','amenities_Refrigerator', \n",
    "               'amenities_Dishes and silverware', \n",
    "               'amenities_Extra pillows and blankets', 'amenities_Oven', \n",
    "               'amenities_TV', 'amenities_No stairs or steps to enter', \n",
    "               'amenities_Family/kid friendly']\n",
    "\n",
    "kmedians_cluster_sizes = airbnb_df.groupby('kmedians_cluster').size()\n",
    "amenities_superhosts = airbnb_df.groupby('kmedians_cluster').sum()[family_cols]\n",
    "print(\"Table 4. Proportion of listings within a cluster that \"\n",
    "      \"possess basic amenities.\")\n",
    "pd.DataFrame([amenities_superhosts.iloc[0]/kmedians_cluster_sizes[0], \n",
    "              amenities_superhosts.iloc[1]/kmedians_cluster_sizes[1], \n",
    "              amenities_superhosts.iloc[2]/kmedians_cluster_sizes[2]])"
   ]
  },
  {
   "cell_type": "markdown",
   "metadata": {},
   "source": [
    "**Cluster 0**: With listings in Cluster 0 having a very high price point, it is a wonder that they still get relatively high scores without having much listed amenities.  Notice that it consistently ranks the lowest in Table 4.\n",
    "\n",
    "**Cluster 1**: Cluster 1 consistently has the highest proportion of listings that contain amenities fit for families since it allows for a more convenient stay experience for the target audience which are probably families. Also seen on Table 4 are listed amenities like being `Family/kid friendly` and having `No stairs or steps to enter` which gives more assurance and confidence to families in staying in the listed unit.   \n",
    "\n",
    "To add to this, found in Table 5 are other amenities fit for families with babies and toddlers.  Cluster 1 consistently ranks the highest in providing these amenities. "
   ]
  },
  {
   "cell_type": "code",
   "execution_count": 45,
   "metadata": {
    "ExecuteTime": {
     "end_time": "2021-08-11T14:32:24.472403Z",
     "start_time": "2021-08-11T14:32:24.397847Z"
    }
   },
   "outputs": [
    {
     "name": "stdout",
     "output_type": "stream",
     "text": [
      "Table 5. Proportion of listings within a cluster that possess amenities for babies.\n"
     ]
    },
    {
     "data": {
      "text/html": [
       "<div>\n",
       "<style scoped>\n",
       "    .dataframe tbody tr th:only-of-type {\n",
       "        vertical-align: middle;\n",
       "    }\n",
       "\n",
       "    .dataframe tbody tr th {\n",
       "        vertical-align: top;\n",
       "    }\n",
       "\n",
       "    .dataframe thead th {\n",
       "        text-align: right;\n",
       "    }\n",
       "</style>\n",
       "<table border=\"1\" class=\"dataframe\">\n",
       "  <thead>\n",
       "    <tr style=\"text-align: right;\">\n",
       "      <th></th>\n",
       "      <th>amenities_Children’s dinnerware</th>\n",
       "      <th>amenities_Children’s books and toys</th>\n",
       "      <th>amenities_Outlet covers</th>\n",
       "      <th>amenities_Baby monitor</th>\n",
       "      <th>amenities_Baby bath</th>\n",
       "      <th>amenities_Babysitter recommendations</th>\n",
       "      <th>amenities_Table corner guards</th>\n",
       "      <th>amenities_Pack ’n Play/travel crib</th>\n",
       "      <th>amenities_Family/kid friendly</th>\n",
       "      <th>amenities_Window guards</th>\n",
       "      <th>amenities_Flat path to guest entrance</th>\n",
       "      <th>amenities_High chair</th>\n",
       "      <th>amenities_Crib</th>\n",
       "      <th>amenities_Changing table</th>\n",
       "      <th>amenities_Fireplace guards</th>\n",
       "      <th>amenities_Stair gates</th>\n",
       "    </tr>\n",
       "  </thead>\n",
       "  <tbody>\n",
       "    <tr>\n",
       "      <th>0</th>\n",
       "      <td>0.007120</td>\n",
       "      <td>0.012298</td>\n",
       "      <td>0.005178</td>\n",
       "      <td>0.000000</td>\n",
       "      <td>0.018770</td>\n",
       "      <td>0.000647</td>\n",
       "      <td>0.005178</td>\n",
       "      <td>0.004531</td>\n",
       "      <td>0.169579</td>\n",
       "      <td>0.011003</td>\n",
       "      <td>0.005825</td>\n",
       "      <td>0.008414</td>\n",
       "      <td>0.003236</td>\n",
       "      <td>0.001942</td>\n",
       "      <td>0.000647</td>\n",
       "      <td>0.000647</td>\n",
       "    </tr>\n",
       "    <tr>\n",
       "      <th>1</th>\n",
       "      <td>0.108959</td>\n",
       "      <td>0.086683</td>\n",
       "      <td>0.018402</td>\n",
       "      <td>0.001453</td>\n",
       "      <td>0.018886</td>\n",
       "      <td>0.014044</td>\n",
       "      <td>0.016465</td>\n",
       "      <td>0.023729</td>\n",
       "      <td>0.361743</td>\n",
       "      <td>0.047942</td>\n",
       "      <td>0.117191</td>\n",
       "      <td>0.075061</td>\n",
       "      <td>0.033414</td>\n",
       "      <td>0.004843</td>\n",
       "      <td>0.000969</td>\n",
       "      <td>0.020339</td>\n",
       "    </tr>\n",
       "    <tr>\n",
       "      <th>2</th>\n",
       "      <td>0.012903</td>\n",
       "      <td>0.033548</td>\n",
       "      <td>0.009032</td>\n",
       "      <td>0.000000</td>\n",
       "      <td>0.003871</td>\n",
       "      <td>0.003871</td>\n",
       "      <td>0.001290</td>\n",
       "      <td>0.018065</td>\n",
       "      <td>0.171613</td>\n",
       "      <td>0.006452</td>\n",
       "      <td>0.023226</td>\n",
       "      <td>0.034839</td>\n",
       "      <td>0.006452</td>\n",
       "      <td>0.000000</td>\n",
       "      <td>0.000000</td>\n",
       "      <td>0.001290</td>\n",
       "    </tr>\n",
       "  </tbody>\n",
       "</table>\n",
       "</div>"
      ],
      "text/plain": [
       "   amenities_Children’s dinnerware  amenities_Children’s books and toys  \\\n",
       "0                         0.007120                             0.012298   \n",
       "1                         0.108959                             0.086683   \n",
       "2                         0.012903                             0.033548   \n",
       "\n",
       "   amenities_Outlet covers  amenities_Baby monitor  amenities_Baby bath  \\\n",
       "0                 0.005178                0.000000             0.018770   \n",
       "1                 0.018402                0.001453             0.018886   \n",
       "2                 0.009032                0.000000             0.003871   \n",
       "\n",
       "   amenities_Babysitter recommendations  amenities_Table corner guards  \\\n",
       "0                              0.000647                       0.005178   \n",
       "1                              0.014044                       0.016465   \n",
       "2                              0.003871                       0.001290   \n",
       "\n",
       "   amenities_Pack ’n Play/travel crib  amenities_Family/kid friendly  \\\n",
       "0                            0.004531                       0.169579   \n",
       "1                            0.023729                       0.361743   \n",
       "2                            0.018065                       0.171613   \n",
       "\n",
       "   amenities_Window guards  amenities_Flat path to guest entrance  \\\n",
       "0                 0.011003                               0.005825   \n",
       "1                 0.047942                               0.117191   \n",
       "2                 0.006452                               0.023226   \n",
       "\n",
       "   amenities_High chair  amenities_Crib  amenities_Changing table  \\\n",
       "0              0.008414        0.003236                  0.001942   \n",
       "1              0.075061        0.033414                  0.004843   \n",
       "2              0.034839        0.006452                  0.000000   \n",
       "\n",
       "   amenities_Fireplace guards  amenities_Stair gates  \n",
       "0                    0.000647               0.000647  \n",
       "1                    0.000969               0.020339  \n",
       "2                    0.000000               0.001290  "
      ]
     },
     "execution_count": 45,
     "metadata": {},
     "output_type": "execute_result"
    }
   ],
   "source": [
    "for_kids = ['amenities_Children’s dinnerware', \n",
    "            'amenities_Children’s books and toys',\n",
    "            'amenities_Outlet covers', 'amenities_Baby monitor', \n",
    "            'amenities_Baby bath', 'amenities_Babysitter recommendations',\n",
    "            'amenities_Table corner guards', \n",
    "            'amenities_Pack ’n Play/travel crib', \n",
    "            'amenities_Family/kid friendly', 'amenities_Window guards',\n",
    "            'amenities_Flat path to guest entrance', 'amenities_High chair', \n",
    "            'amenities_Crib', 'amenities_Changing table',\n",
    "            'amenities_Fireplace guards', 'amenities_Stair gates']\n",
    "\n",
    "kmedians_cluster_sizes = airbnb_df.groupby('kmedians_cluster').size()\n",
    "amenities_superhosts = airbnb_df.groupby('kmedians_cluster').sum()[for_kids]\n",
    "print(\"Table 5. Proportion of listings within a cluster that \"\n",
    "      \"possess amenities for babies.\")\n",
    "pd.DataFrame([amenities_superhosts.iloc[0]/kmedians_cluster_sizes[0], \n",
    "              amenities_superhosts.iloc[1]/kmedians_cluster_sizes[1], \n",
    "              amenities_superhosts.iloc[2]/kmedians_cluster_sizes[2]])"
   ]
  },
  {
   "cell_type": "markdown",
   "metadata": {},
   "source": [
    "**Cluster 2**: Clusters 2 listings are able to offer the same amenities as Cluster 1 listings, as their proportions are comparable on most amenities.  However, it is worth noting that Cluster 2 listings take the lead when considering amenities related to travelers who brought work with them, as shown in Table 6. "
   ]
  },
  {
   "cell_type": "code",
   "execution_count": 46,
   "metadata": {
    "ExecuteTime": {
     "end_time": "2021-08-11T14:32:26.188591Z",
     "start_time": "2021-08-11T14:32:26.141044Z"
    }
   },
   "outputs": [
    {
     "name": "stdout",
     "output_type": "stream",
     "text": [
      "Table 6. Proportion of listings within a cluster that possess work-friendly amenities.\n"
     ]
    },
    {
     "data": {
      "text/html": [
       "<div>\n",
       "<style scoped>\n",
       "    .dataframe tbody tr th:only-of-type {\n",
       "        vertical-align: middle;\n",
       "    }\n",
       "\n",
       "    .dataframe tbody tr th {\n",
       "        vertical-align: top;\n",
       "    }\n",
       "\n",
       "    .dataframe thead th {\n",
       "        text-align: right;\n",
       "    }\n",
       "</style>\n",
       "<table border=\"1\" class=\"dataframe\">\n",
       "  <thead>\n",
       "    <tr style=\"text-align: right;\">\n",
       "      <th></th>\n",
       "      <th>Laptop-friendly workspace</th>\n",
       "      <th>Wifi</th>\n",
       "    </tr>\n",
       "  </thead>\n",
       "  <tbody>\n",
       "    <tr>\n",
       "      <th>0</th>\n",
       "      <td>0.684142</td>\n",
       "      <td>0.963107</td>\n",
       "    </tr>\n",
       "    <tr>\n",
       "      <th>1</th>\n",
       "      <td>0.850847</td>\n",
       "      <td>0.963196</td>\n",
       "    </tr>\n",
       "    <tr>\n",
       "      <th>2</th>\n",
       "      <td>0.877419</td>\n",
       "      <td>0.975484</td>\n",
       "    </tr>\n",
       "  </tbody>\n",
       "</table>\n",
       "</div>"
      ],
      "text/plain": [
       "   Laptop-friendly workspace      Wifi\n",
       "0                   0.684142  0.963107\n",
       "1                   0.850847  0.963196\n",
       "2                   0.877419  0.975484"
      ]
     },
     "execution_count": 46,
     "metadata": {},
     "output_type": "execute_result"
    }
   ],
   "source": [
    "biz_friendly = ['amenities_Laptop friendly workspace', 'amenities_Wifi']\n",
    "kmedians_cluster_sizes = airbnb_df.groupby('kmedians_cluster').size()\n",
    "amenities_superhosts = airbnb_df.groupby('kmedians_cluster').sum()[biz_friendly]\n",
    "print(\"Table 6. Proportion of listings within a cluster that possess \"\n",
    "      \"work-friendly amenities.\")\n",
    "pd.DataFrame([amenities_superhosts.iloc[0]/kmedians_cluster_sizes[0], \n",
    "              amenities_superhosts.iloc[1]/kmedians_cluster_sizes[1], \n",
    "              amenities_superhosts.iloc[2]/kmedians_cluster_sizes[2]]\n",
    "            ).rename(columns={'amenities_Laptop friendly workspace':\n",
    "                              'Laptop-friendly workspace',\n",
    "                              'amenities_Wifi':'Wifi'})"
   ]
  },
  {
   "cell_type": "markdown",
   "metadata": {},
   "source": [
    "In summary, found in Table 7 are the key points to be highlighted per cluster. \n",
    "\n",
    "Table 7.  Key features of each identified cluster of Airbnb superhosts' listings.\n",
    "\n",
    "|Feature|Cluster 0|Cluster 1|Cluster 2| \n",
    "|:-     |:-|:-|:-| \n",
    "|**Target Market**|**High-paying guests**|**Families**|**Budget travelers**| \n",
    "|**Property Type**| Apartments, hostels, houses, aparthotels| Apartments, houses| Apartments, houses, condominiums| \n",
    "|**Price**|Least cost efficient|Cost-efficient for big groups|Cost efficient for small- to average-sized groups| \n",
    "|**Rating**|Lowest rated overall|Highest rated overall|Good ratings| \n",
    "|**Amenities**|Lacking in amenities|Family-friendly amenities|Similar to Cluster 1, but also offers amenities for business travelers| "
   ]
  },
  {
   "cell_type": "code",
   "execution_count": 47,
   "metadata": {
    "ExecuteTime": {
     "end_time": "2021-08-11T14:33:01.636033Z",
     "start_time": "2021-08-11T14:32:30.115114Z"
    }
   },
   "outputs": [
    {
     "name": "stdout",
     "output_type": "stream",
     "text": [
      "Generating map...\n",
      "Wait for the link!\n"
     ]
    },
    {
     "data": {
      "application/vnd.jupyter.widget-view+json": {
       "model_id": "7c7eeadba52e45058d627880c0375d43",
       "version_major": 2,
       "version_minor": 0
      },
      "text/plain": [
       "  0%|          | 0/4385 [00:00<?, ?it/s]"
      ]
     },
     "metadata": {},
     "output_type": "display_data"
    },
    {
     "name": "stdout",
     "output_type": "stream",
     "text": [
      "Done!\n"
     ]
    },
    {
     "data": {
      "text/html": [
       "<h3><center>Click here to open the <a target=\"_blank\" href=\"map.html\">map</a> generated.</center></h3>"
      ],
      "text/plain": [
       "<IPython.core.display.HTML object>"
      ]
     },
     "execution_count": 47,
     "metadata": {},
     "output_type": "execute_result"
    }
   ],
   "source": [
    "m = folium.Map([35.692434, 139.734298], zoom_start=10, tiles=\"CartoDB positron\")\n",
    "def color(cluster):\n",
    "    \"\"\"return a color based on the cluster number. defaults to white if\n",
    "    cluster is greater than 3\"\"\"\n",
    "    colors = ['purple', 'lightblue', 'green', 'beige']\n",
    "    return colors[int(cluster)]\n",
    "\n",
    "def icon(cluster):\n",
    "    \"\"\"returns a custom icon based on the cluster number\"\"\"\n",
    "    icon = [('glyphicon', 'user'), ('fa', 'usd'), ('fa', 'plane'), ('glyphicon', 'home')]\n",
    "    return icon[int(cluster)]\n",
    "\n",
    "print('Generating map...\\nWait for the link!')\n",
    "for i in tqdm(range(airbnb_df.shape[0])):\n",
    "    folium.Marker(\n",
    "        location=[airbnb_df.iloc[i]['latitude'], airbnb_df.iloc[i]['longitude']],\n",
    "        radius=5,\n",
    "        popup='<h5>Review Scores</h5>' + ''.join(list(map(lambda x: f'<div><b>{x[0][14:].title()}</b>:<br>{x[1].values[0]}</div>',airbnb_df.iloc[[i]][airbnb_df.columns[airbnb_df.columns.str.contains('score')]].items()))),\n",
    "        opacity=0.5,\n",
    "        icon=folium.Icon(color=color(airbnb_df.iloc[i]['kmeans_cluster']), icon=icon(airbnb_df.iloc[i]['kmeans_cluster'])[1], prefix=icon(airbnb_df.iloc[i]['kmeans_cluster'])[0])\n",
    "    ).add_to(m)\n",
    "    \n",
    "\n",
    "m.save('map.html')\n",
    "print('Done!')\n",
    "IPython.display.HTML('<h3><center>Click here to open the <a target=\"_blank\" href=\"map.html\">map</a> generated.</center></h3>')"
   ]
  },
  {
   "cell_type": "markdown",
   "metadata": {},
   "source": [
    "## Conclusion and Recommendations \n",
    "\n",
    "By conducting principal component analysis and K-medians clustering, the researchers were able to come up with 3 distinct clusters of listings made by superhosts.  These 3 clusters encompass varied customer segments, namely high paying guests, families, and budget travelers.  Each of these clusters have their own distinct features, pertaining to property type, price, rating, length of stay, and amenities available. \n",
    "\n",
    "For guests traveling to Tokyo, it is best to discern how big the group is before making a booking, but it is also recommended to steer clear from Cluster 0 listings, as these are known to be cost inefficient.  For hosts and soon-to-be superhosts, the property type and other amenities available are what will dictate the target market of an Airbnb listing.  Knowing the target market of an Airbnb listing will garner high ratings in due time.   \n",
    "\n",
    "The researchers recommend the following for further studies: \n",
    "\n",
    "1. Conduct clustering based on geospatial features to confirm whether certain areas are near specific locations (e.g. cluster 2 listings are far from tourist areas, cluster 0 listings are near tourist areas). \n",
    "2. Isolate the analysis to the host IDs and their corresponding host features, then conduct clustering and exploratory data analysis to determine the personas of a superhost. \n",
    "3. Conduct natural language programing on text columns of the dataset to discern what Airbnb hosts should mention or discuss in these text fields. Turning these into Boolean columns returned hardly any useful insights. "
   ]
  }
 ],
 "metadata": {
  "kernelspec": {
   "display_name": "Python 3",
   "language": "python",
   "name": "python3"
  },
  "language_info": {
   "codemirror_mode": {
    "name": "ipython",
    "version": 3
   },
   "file_extension": ".py",
   "mimetype": "text/x-python",
   "name": "python",
   "nbconvert_exporter": "python",
   "pygments_lexer": "ipython3",
   "version": "3.8.8"
  },
  "latex_envs": {
   "LaTeX_envs_menu_present": true,
   "autoclose": true,
   "autocomplete": true,
   "bibliofile": "biblio.bib",
   "cite_by": "apalike",
   "current_citInitial": 1,
   "eqLabelWithNumbers": true,
   "eqNumInitial": 1,
   "hotkeys": {
    "equation": "Ctrl-E",
    "itemize": "Ctrl-I"
   },
   "labels_anchors": false,
   "latex_user_defs": false,
   "report_style_numbering": false,
   "user_envs_cfg": false
  },
  "toc": {
   "base_numbering": 1,
   "nav_menu": {},
   "number_sections": true,
   "sideBar": true,
   "skip_h1_title": false,
   "title_cell": "Table of Contents",
   "title_sidebar": "Contents",
   "toc_cell": false,
   "toc_position": {},
   "toc_section_display": true,
   "toc_window_display": false
  },
  "varInspector": {
   "cols": {
    "lenName": 16,
    "lenType": 16,
    "lenVar": 40
   },
   "kernels_config": {
    "python": {
     "delete_cmd_postfix": "",
     "delete_cmd_prefix": "del ",
     "library": "var_list.py",
     "varRefreshCmd": "print(var_dic_list())"
    },
    "r": {
     "delete_cmd_postfix": ") ",
     "delete_cmd_prefix": "rm(",
     "library": "var_list.r",
     "varRefreshCmd": "cat(var_dic_list()) "
    }
   },
   "types_to_exclude": [
    "module",
    "function",
    "builtin_function_or_method",
    "instance",
    "_Feature"
   ],
   "window_display": false
  }
 },
 "nbformat": 4,
 "nbformat_minor": 4
}
